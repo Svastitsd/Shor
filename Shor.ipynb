{
 "cells": [
  {
   "cell_type": "code",
   "execution_count": 1,
   "metadata": {},
   "outputs": [],
   "source": [
    "%matplotlib inline\n",
    "# Importing standard Qiskit libraries\n",
    "from qiskit import QuantumCircuit, execute, Aer, IBMQ, QuantumRegister\n",
    "from qiskit.compiler import transpile, assemble\n",
    "from qiskit.tools.jupyter import *\n",
    "from qiskit.visualization import *\n",
    "from ibm_quantum_widgets import *\n",
    "\n",
    "import qiskit as qk\n",
    "import numpy as np\n",
    "import matplotlib.pyplot as plt\n",
    "from qiskit.providers.ibmq import least_busy\n",
    "from qiskit.tools.monitor import job_monitor\n",
    "import qiskit.quantum_info as qi\n",
    "import qiskit.circuit.library as ql\n",
    "\n",
    "import random\n",
    "import numpy as np\n",
    "from qiskit.visualization import plot_histogram\n",
    "from qiskit.providers.aer.noise import NoiseModel\n",
    "import qiskit.providers.aer.noise as noise\n",
    "\n",
    "\n",
    "# Loading your IBM Q account(s)\n",
    "provider = IBMQ.load_account()"
   ]
  },
  {
   "cell_type": "markdown",
   "metadata": {},
   "source": [
    "## Gépek"
   ]
  },
  {
   "cell_type": "code",
   "execution_count": 2,
   "metadata": {},
   "outputs": [],
   "source": [
    "simulator = qk.BasicAer.get_backend('qasm_simulator')\n",
    "real1 = least_busy(provider.backends(filters=lambda x: x.configuration().n_qubits > 3,\n",
    "                                            operational=True, simulator=False))\n",
    "real2 = least_busy(provider.backends(filters=lambda x: x.configuration().n_qubits > 11,\n",
    "                                            operational=True, simulator=False))"
   ]
  },
  {
   "cell_type": "code",
   "execution_count": 3,
   "metadata": {},
   "outputs": [
    {
     "name": "stdout",
     "output_type": "stream",
     "text": [
      "ibmq_16_melbourne\n"
     ]
    }
   ],
   "source": [
    "print(real2)"
   ]
  },
  {
   "cell_type": "markdown",
   "metadata": {},
   "source": [
    "## A kvantumáramkörhöz használt kapuk összeállítása"
   ]
  },
  {
   "cell_type": "code",
   "execution_count": 4,
   "metadata": {
    "scrolled": false
   },
   "outputs": [
    {
     "name": "stdout",
     "output_type": "stream",
     "text": [
      "11 OrderedDict([('cx', 6), ('u1', 6), ('u2', 2)])\n"
     ]
    },
    {
     "data": {
      "text/html": [
       "<pre style=\"word-wrap: normal;white-space: pre;background: #fff0;line-height: 1.1;font-family: &quot;Courier New&quot;,Courier,monospace\">global phase: 0\n",
       "                                                                       »\n",
       "q_0: ──────────────────────────────■────────────────────────────────■──»\n",
       "                                   │                  ┌─────────┐   │  »\n",
       "q_1: ─────────────■────────────────┼───────────────■──┤ U1(π/4) ├───┼──»\n",
       "                  │                │               │  └─────────┘   │  »\n",
       "q_2: ─────────────┼────────────────┼───────────────┼────────────────┼──»\n",
       "                  │                │               │                │  »\n",
       "q_3: ─────────────┼────────────────┼───────────────┼────────────────┼──»\n",
       "     ┌─────────┐┌─┴─┐┌──────────┐┌─┴─┐┌─────────┐┌─┴─┐┌──────────┐┌─┴─┐»\n",
       "q_4: ┤ U2(0,π) ├┤ X ├┤ U1(-π/4) ├┤ X ├┤ U1(π/4) ├┤ X ├┤ U1(-π/4) ├┤ X ├»\n",
       "     └─────────┘└───┘└──────────┘└───┘└─────────┘└───┘└──────────┘└───┘»\n",
       "«                    ┌─────────┐      \n",
       "«q_0: ───────■───────┤ U1(π/4) ├───■──\n",
       "«          ┌─┴─┐     ├─────────┴┐┌─┴─┐\n",
       "«q_1: ─────┤ X ├─────┤ U1(-π/4) ├┤ X ├\n",
       "«          └───┘     └──────────┘└───┘\n",
       "«q_2: ────────────────────────────────\n",
       "«                                     \n",
       "«q_3: ────────────────────────────────\n",
       "«     ┌─────────────┐                 \n",
       "«q_4: ┤ U2(0,-3π/4) ├─────────────────\n",
       "«     └─────────────┘                 </pre>"
      ],
      "text/plain": [
       "global phase: 0\n",
       "                                                                       »\n",
       "q_0: ──────────────────────────────■────────────────────────────────■──»\n",
       "                                   │                  ┌─────────┐   │  »\n",
       "q_1: ─────────────■────────────────┼───────────────■──┤ U1(π/4) ├───┼──»\n",
       "                  │                │               │  └─────────┘   │  »\n",
       "q_2: ─────────────┼────────────────┼───────────────┼────────────────┼──»\n",
       "                  │                │               │                │  »\n",
       "q_3: ─────────────┼────────────────┼───────────────┼────────────────┼──»\n",
       "     ┌─────────┐┌─┴─┐┌──────────┐┌─┴─┐┌─────────┐┌─┴─┐┌──────────┐┌─┴─┐»\n",
       "q_4: ┤ U2(0,π) ├┤ X ├┤ U1(-π/4) ├┤ X ├┤ U1(π/4) ├┤ X ├┤ U1(-π/4) ├┤ X ├»\n",
       "     └─────────┘└───┘└──────────┘└───┘└─────────┘└───┘└──────────┘└───┘»\n",
       "«                    ┌─────────┐      \n",
       "«q_0: ───────■───────┤ U1(π/4) ├───■──\n",
       "«          ┌─┴─┐     ├─────────┴┐┌─┴─┐\n",
       "«q_1: ─────┤ X ├─────┤ U1(-π/4) ├┤ X ├\n",
       "«          └───┘     └──────────┘└───┘\n",
       "«q_2: ────────────────────────────────\n",
       "«                                     \n",
       "«q_3: ────────────────────────────────\n",
       "«     ┌─────────────┐                 \n",
       "«q_4: ┤ U2(0,-3π/4) ├─────────────────\n",
       "«     └─────────────┘                 "
      ]
     },
     "execution_count": 4,
     "metadata": {},
     "output_type": "execute_result"
    }
   ],
   "source": [
    "def pgate(n):\n",
    "    qc = QuantumCircuit(1)\n",
    "    qc.p(np.pi/2**(n-1), 0)\n",
    "    g = qc.to_gate()\n",
    "    g.name = 'p{}'.format(n)\n",
    "    return g\n",
    "         \n",
    "\n",
    "qc = QuantumCircuit(5)\n",
    "\n",
    "#qc.append(pgate(2).control(1), range(2))\n",
    "#qc.append(pgate(3).control(1), [0, 2])\n",
    "#qc.h(1)\n",
    "\n",
    "#qc.append(pgate(3).control(2), [0, 1, 3])\n",
    "qc.append(ql.XGate().control(2), [0, 1, 4])\n",
    "#qc.append(pgate(3).control(2), [0, 2, 5])\n",
    "#qc.append(qft(3), range(3))\n",
    "qc.draw()\n",
    "s1 = qk.compiler.transpile(qc, simulator, optimization_level=1)\n",
    "s2 = qk.compiler.transpile(qc, real2, optimization_level=3)\n",
    "print(s1.depth(), s1.count_ops())\n",
    "s1.draw()"
   ]
  },
  {
   "cell_type": "code",
   "execution_count": 5,
   "metadata": {},
   "outputs": [],
   "source": [
    "def qft(n): # 1 qubit: n, 2 qubit: n(n-1)/2\n",
    "    qc = QuantumCircuit(n)\n",
    "    for i in range(int(n/2)):\n",
    "        qc.swap(i, n-i-1)\n",
    "    for i in range(n):\n",
    "        qc.h(i)\n",
    "        for j in range(i+1, n):\n",
    "            qc.cp(2*np.pi/2**(j-i+1), j, i)\n",
    "    circ = qc.to_gate()\n",
    "    circ.name = 'QFT{}'.format(n)\n",
    "    return circ"
   ]
  },
  {
   "cell_type": "code",
   "execution_count": 145,
   "metadata": {},
   "outputs": [
    {
     "name": "stdout",
     "output_type": "stream",
     "text": [
      "16 OrderedDict([('u1', 9), ('cx', 9), ('u2', 3)])\n"
     ]
    },
    {
     "data": {
      "text/html": [
       "<pre style=\"word-wrap: normal;white-space: pre;background: #fff0;line-height: 1.1;font-family: &quot;Courier New&quot;,Courier,monospace\">        ┌───┐                                     \n",
       "q_0: ─X─┤ H ├─■────────■──────────────────────────\n",
       "      │ └───┘ │P(π/2)  │       ┌───┐              \n",
       "q_1: ─┼───────■────────┼───────┤ H ├─■────────────\n",
       "      │                │P(π/4) └───┘ │P(π/2) ┌───┐\n",
       "q_2: ─X────────────────■─────────────■───────┤ H ├\n",
       "                                             └───┘</pre>"
      ],
      "text/plain": [
       "        ┌───┐                                     \n",
       "q_0: ─X─┤ H ├─■────────■──────────────────────────\n",
       "      │ └───┘ │P(π/2)  │       ┌───┐              \n",
       "q_1: ─┼───────■────────┼───────┤ H ├─■────────────\n",
       "      │                │P(π/4) └───┘ │P(π/2) ┌───┐\n",
       "q_2: ─X────────────────■─────────────■───────┤ H ├\n",
       "                                             └───┘"
      ]
     },
     "execution_count": 145,
     "metadata": {},
     "output_type": "execute_result"
    }
   ],
   "source": [
    "def qft(qc,n): # 1 qubit: n, 2 qubit: n(n-1)/2\n",
    "   # qc = QuantumCircuit(n)\n",
    "    for i in range(int(n/2)):\n",
    "        qc.swap(i, n-i-1)\n",
    "    for i in range(n):\n",
    "        qc.h(i)\n",
    "        for j in range(i+1, n):\n",
    "            qc.cp(2*np.pi/2**(j-i+1), j, i)\n",
    "    return qc\n",
    "qc = QuantumCircuit(3)\n",
    "qft(qc, 3)\n",
    "sc = qk.compiler.transpile(qc, simulator, optimization_level=1)\n",
    "print(sc.depth(), sc.count_ops())\n",
    "qc.draw()"
   ]
  },
  {
   "cell_type": "code",
   "execution_count": 6,
   "metadata": {},
   "outputs": [],
   "source": [
    "def add(n, a): # klasszikus összeadó áramkör (ezt nem használja az algoritmus, a másik jobb)  kapuk: n(n+1)/2\n",
    "    qc = QuantumCircuit(n)\n",
    "    copy = a%(2**n)\n",
    "    a_bin = []\n",
    "    for i in range(n):\n",
    "        a_bin.append(copy//2**(n-1-i))\n",
    "        copy = copy%2**(n-1-i)\n",
    "    for i in range(n):\n",
    "        if a_bin[i] == 1:\n",
    "            for j in range(i):\n",
    "                qc.append(ql.XGate().control(i-j), range(n-i-1, n-j))\n",
    "            qc.x(n-1-i)\n",
    "    add = qc.to_gate()\n",
    "    add.name = '{}add{}'.format(n, a)\n",
    "    return add\n",
    "\n",
    "def F_add(n, a): # összeadás Fourier bázisban (ezt használja az algoritmus)  kapuk: n(n+1)/2\n",
    "    qc = QuantumCircuit(n)\n",
    "    a_bin = []\n",
    "    copy = a%(2**n)\n",
    "    for i in range(n):\n",
    "        a_bin.append(copy//2**(n-1-i))\n",
    "        \n",
    "        copy = copy % 2**(n-1-i)\n",
    "    #qc.append(qft(n), range(n))\n",
    "    rot = np.zeros(n)\n",
    "    for i in range(n):\n",
    "        if a_bin[n-i-1] == 1:\n",
    "            for j in range(n-i):\n",
    "                rot[n-j-i-1] += 2*np.pi/2**(j+1)\n",
    "    for i in range(n):\n",
    "        qc.p(rot[i], i)\n",
    "    #qc.append(qft(n).inverse(), range(n))\n",
    "    gate = qc.to_gate()\n",
    "    gate.name = '{}F_add{}'.format(n, a)\n",
    "    return gate"
   ]
  },
  {
   "cell_type": "code",
   "execution_count": 286,
   "metadata": {},
   "outputs": [
    {
     "name": "stdout",
     "output_type": "stream",
     "text": [
      "85 OrderedDict([('u1', 72), ('cx', 64)])\n"
     ]
    },
    {
     "data": {
      "text/html": [
       "<pre style=\"word-wrap: normal;white-space: pre;background: #fff0;line-height: 1.1;font-family: &quot;Courier New&quot;,Courier,monospace\">                             \n",
       "q_0: ─────■───────────■──────\n",
       "          │           │      \n",
       "q_1: ─────■───────────┼──────\n",
       "     ┌────┴─────┐     │      \n",
       "q_2: ┤0         ├─────■──────\n",
       "     │          │┌────┴─────┐\n",
       "q_3: ┤1         ├┤0         ├\n",
       "     │  4F_add7 ││          │\n",
       "q_4: ┤2         ├┤1         ├\n",
       "     │          ││  4F_add7 │\n",
       "q_5: ┤3         ├┤2         ├\n",
       "     └──────────┘│          │\n",
       "q_6: ────────────┤3         ├\n",
       "                 └──────────┘</pre>"
      ],
      "text/plain": [
       "                             \n",
       "q_0: ─────■───────────■──────\n",
       "          │           │      \n",
       "q_1: ─────■───────────┼──────\n",
       "     ┌────┴─────┐     │      \n",
       "q_2: ┤0         ├─────■──────\n",
       "     │          │┌────┴─────┐\n",
       "q_3: ┤1         ├┤0         ├\n",
       "     │  4F_add7 ││          │\n",
       "q_4: ┤2         ├┤1         ├\n",
       "     │          ││  4F_add7 │\n",
       "q_5: ┤3         ├┤2         ├\n",
       "     └──────────┘│          │\n",
       "q_6: ────────────┤3         ├\n",
       "                 └──────────┘"
      ]
     },
     "execution_count": 286,
     "metadata": {},
     "output_type": "execute_result"
    }
   ],
   "source": [
    "'''\n",
    "def F_add(qc, n, a): # összeadás Fourier bázisban (ezt használja az algoritmus)  kapuk: n(n+1)/2\n",
    "    #qc = QuantumCircuit(n)\n",
    "    a_bin = []\n",
    "    copy = a%(2**n)\n",
    "    for i in range(n):\n",
    "        a_bin.append(copy//2**(n-1-i))\n",
    "        copy = copy%2**(n-1-i)\n",
    "    #qc.append(qft(n), range(n))\n",
    "    for i in range(n):\n",
    "        if a_bin[n-i-1] == 1:\n",
    "            for j in range(n-i):\n",
    "                qc.p(2*np.pi/2**(j+1), n-j-i-1)\n",
    "    #qc.append(qft(n).inverse(), range(n))\n",
    "    return qc\n",
    "'''\n",
    "qc = QuantumCircuit(7)\n",
    "qc.append(F_add(4, 7).control(2), range(6))\n",
    "qc.append(F_add(4, 7).control(2), [0, 2, 3, 4, 5, 6])\n",
    "#qc.append(F_add(4, 1).control(2), range(6))\n",
    "#qc.append(F_add(5, 7), range(3))\n",
    "sc = qk.compiler.transpile(qc, simulator, optimization_level=0)\n",
    "print(sc.depth(), sc.count_ops())\n",
    "\n",
    "qc.draw()"
   ]
  },
  {
   "cell_type": "code",
   "execution_count": 7,
   "metadata": {},
   "outputs": [],
   "source": [
    "# 0, 1: control | range(2, n+2): addition | n+2, n+3: auxiliary\n",
    "# adds in Fourier basis\n",
    "def c2_mod_add(a, N): #csak akkor működik jól, ha az erediti szám < N (az algoritmushoz ez elég)\n",
    "    n = N.bit_length()\n",
    "    qc = QuantumCircuit(n+4)\n",
    "    qc.append(F_add(n+1, a).control(2), range(n+3))\n",
    "    qc.append(F_add(n+1, N).inverse(), range(2, n+3))\n",
    "    qc.append(qft(n+1).inverse(), range(2, n+3))\n",
    "    qc.cx(n+2, n+3)\n",
    "    qc.append(qft(n+1), range(2, n+3))\n",
    "    qc.append(F_add(n+1, N).control(), [n+3]+list(range(2, n+3)))\n",
    "    qc.append(F_add(n+1, a).inverse().control(2), range(n+3))\n",
    "    qc.append(qft(n+1).inverse(), range(2, n+3))\n",
    "    qc.x(n+2)\n",
    "    qc.cx(n+2, n+3)\n",
    "    qc.x(n+2)\n",
    "    qc.append(qft(n+1), range(2, n+3))\n",
    "    qc.append(F_add(n+1, a).control(2), range(n+3))\n",
    "    gate = qc.to_gate()\n",
    "    gate.name = 'cadd{}mod{}'.format(a,N)\n",
    "    return gate"
   ]
  },
  {
   "cell_type": "code",
   "execution_count": 293,
   "metadata": {},
   "outputs": [
    {
     "name": "stdout",
     "output_type": "stream",
     "text": [
      "219 OrderedDict([('u1', 178), ('cx', 166), ('u2', 16), ('x', 2)])\n"
     ]
    },
    {
     "data": {
      "text/html": [
       "<pre style=\"word-wrap: normal;white-space: pre;background: #fff0;line-height: 1.1;font-family: &quot;Courier New&quot;,Courier,monospace\">                                                                      »\n",
       "q_0: ─────■───────────────────────────────────────────────────────────»\n",
       "          │                                                           »\n",
       "q_1: ─────■───────────────────────────────────────────────────────────»\n",
       "     ┌────┴─────┐┌─────────────┐┌──────────┐     ┌───────┐┌──────────┐»\n",
       "q_2: ┤0         ├┤0            ├┤0         ├─────┤0      ├┤0         ├»\n",
       "     │          ││             ││          │     │       ││          │»\n",
       "q_3: ┤1         ├┤1            ├┤1         ├─────┤1      ├┤1         ├»\n",
       "     │  4F_add3 ││  4F_add7_dg ││  QFT4_dg │     │  QFT4 ││  4F_add7 │»\n",
       "q_4: ┤2         ├┤2            ├┤2         ├─────┤2      ├┤2         ├»\n",
       "     │          ││             ││          │     │       ││          │»\n",
       "q_5: ┤3         ├┤3            ├┤3         ├──■──┤3      ├┤3         ├»\n",
       "     └──────────┘└─────────────┘└──────────┘┌─┴─┐└───────┘└────┬─────┘»\n",
       "q_6: ───────────────────────────────────────┤ X ├──────────────■──────»\n",
       "                                            └───┘                     »\n",
       "q_7: ─────────────────────────────────────────────────────────────────»\n",
       "                                                                      »\n",
       "«                                                                    \n",
       "«q_0: ───────■────────────────────────────────────────────────■──────\n",
       "«            │                                                │      \n",
       "«q_1: ───────■────────────────────────────────────────────────■──────\n",
       "«     ┌──────┴──────┐┌──────────┐               ┌───────┐┌────┴─────┐\n",
       "«q_2: ┤0            ├┤0         ├───────────────┤0      ├┤0         ├\n",
       "«     │             ││          │               │       ││          │\n",
       "«q_3: ┤1            ├┤1         ├───────────────┤1      ├┤1         ├\n",
       "«     │  4F_add3_dg ││  QFT4_dg │               │  QFT4 ││  4F_add3 │\n",
       "«q_4: ┤2            ├┤2         ├───────────────┤2      ├┤2         ├\n",
       "«     │             ││          │┌───┐     ┌───┐│       ││          │\n",
       "«q_5: ┤3            ├┤3         ├┤ X ├──■──┤ X ├┤3      ├┤3         ├\n",
       "«     └─────────────┘└──────────┘└───┘┌─┴─┐└───┘└───────┘└──────────┘\n",
       "«q_6: ────────────────────────────────┤ X ├──────────────────────────\n",
       "«                                     └───┘                          \n",
       "«q_7: ───────────────────────────────────────────────────────────────\n",
       "«                                                                    </pre>"
      ],
      "text/plain": [
       "                                                                      »\n",
       "q_0: ─────■───────────────────────────────────────────────────────────»\n",
       "          │                                                           »\n",
       "q_1: ─────■───────────────────────────────────────────────────────────»\n",
       "     ┌────┴─────┐┌─────────────┐┌──────────┐     ┌───────┐┌──────────┐»\n",
       "q_2: ┤0         ├┤0            ├┤0         ├─────┤0      ├┤0         ├»\n",
       "     │          ││             ││          │     │       ││          │»\n",
       "q_3: ┤1         ├┤1            ├┤1         ├─────┤1      ├┤1         ├»\n",
       "     │  4F_add3 ││  4F_add7_dg ││  QFT4_dg │     │  QFT4 ││  4F_add7 │»\n",
       "q_4: ┤2         ├┤2            ├┤2         ├─────┤2      ├┤2         ├»\n",
       "     │          ││             ││          │     │       ││          │»\n",
       "q_5: ┤3         ├┤3            ├┤3         ├──■──┤3      ├┤3         ├»\n",
       "     └──────────┘└─────────────┘└──────────┘┌─┴─┐└───────┘└────┬─────┘»\n",
       "q_6: ───────────────────────────────────────┤ X ├──────────────■──────»\n",
       "                                            └───┘                     »\n",
       "q_7: ─────────────────────────────────────────────────────────────────»\n",
       "                                                                      »\n",
       "«                                                                    \n",
       "«q_0: ───────■────────────────────────────────────────────────■──────\n",
       "«            │                                                │      \n",
       "«q_1: ───────■────────────────────────────────────────────────■──────\n",
       "«     ┌──────┴──────┐┌──────────┐               ┌───────┐┌────┴─────┐\n",
       "«q_2: ┤0            ├┤0         ├───────────────┤0      ├┤0         ├\n",
       "«     │             ││          │               │       ││          │\n",
       "«q_3: ┤1            ├┤1         ├───────────────┤1      ├┤1         ├\n",
       "«     │  4F_add3_dg ││  QFT4_dg │               │  QFT4 ││  4F_add3 │\n",
       "«q_4: ┤2            ├┤2         ├───────────────┤2      ├┤2         ├\n",
       "«     │             ││          │┌───┐     ┌───┐│       ││          │\n",
       "«q_5: ┤3            ├┤3         ├┤ X ├──■──┤ X ├┤3      ├┤3         ├\n",
       "«     └─────────────┘└──────────┘└───┘┌─┴─┐└───┘└───────┘└──────────┘\n",
       "«q_6: ────────────────────────────────┤ X ├──────────────────────────\n",
       "«                                     └───┘                          \n",
       "«q_7: ───────────────────────────────────────────────────────────────\n",
       "«                                                                    "
      ]
     },
     "execution_count": 293,
     "metadata": {},
     "output_type": "execute_result"
    }
   ],
   "source": [
    "def c2_mod_add(qc, a, N): #csak akkor működik jól, ha az erediti szám < N (az algoritmushoz ez elég)\n",
    "    n = N.bit_length()\n",
    "   # qc = QuantumCircuit(n+4)\n",
    "    qc.append(F_add(n+1, a).control(2), range(n+3))\n",
    "    qc.append(F_add(n+1, N).inverse(), range(2, n+3))\n",
    "    qc.append(qft(n+1).inverse(), range(2, n+3))\n",
    "    qc.cx(n+2, n+3)\n",
    "    qc.append(qft(n+1), range(2, n+3))\n",
    "    qc.append(F_add(n+1, N).control(), [n+3]+list(range(2, n+3)))\n",
    "    qc.append(F_add(n+1, a).inverse().control(2), range(n+3))\n",
    "    qc.append(qft(n+1).inverse(), range(2, n+3))\n",
    "    qc.x(n+2)\n",
    "    qc.cx(n+2, n+3)\n",
    "    qc.x(n+2)\n",
    "    qc.append(qft(n+1), range(2, n+3))\n",
    "    qc.append(F_add(n+1, a).control(2), range(n+3))\n",
    "    return qc\n",
    "\n",
    "qc = QuantumCircuit(8)\n",
    "c2_mod_add(qc, 3, 7)\n",
    "\n",
    "sc = qk.compiler.transpile(qc, simulator, optimization_level=1)\n",
    "print(sc.depth(), sc.count_ops())\n",
    "\n",
    "qc.draw()\n"
   ]
  },
  {
   "cell_type": "code",
   "execution_count": 301,
   "metadata": {
    "scrolled": false
   },
   "outputs": [
    {
     "name": "stdout",
     "output_type": "stream",
     "text": [
      "1097 OrderedDict([('u1', 1032), ('cx', 924), ('u2', 90), ('x', 8)])\n"
     ]
    },
    {
     "data": {
      "text/html": [
       "<pre style=\"word-wrap: normal;white-space: pre;background: #fff0;line-height: 1.1;font-family: &quot;Courier New&quot;,Courier,monospace\">               ┌──────────────┐┌─────────────┐┌──────────────┐┌──────────────┐»\n",
       " q_0: ─────────┤0             ├┤0            ├┤0             ├┤0             ├»\n",
       "               │              ││             ││              ││              │»\n",
       " q_1: ─────────┤1             ├┤             ├┤              ├┤              ├»\n",
       "               │              ││             ││              ││              │»\n",
       " q_2: ─────────┤              ├┤1            ├┤              ├┤              ├»\n",
       "               │              ││             ││              ││              │»\n",
       " q_3: ─────────┤              ├┤             ├┤1             ├┤              ├»\n",
       "               │              ││             ││              ││              │»\n",
       " q_4: ─────────┤              ├┤             ├┤              ├┤1             ├»\n",
       "      ┌───────┐│              ││             ││              ││              │»\n",
       " q_5: ┤0      ├┤2 cadd11mod15 ├┤2 cadd7mod15 ├┤2 cadd14mod15 ├┤2 cadd13mod15 ├»\n",
       "      │       ││              ││             ││              ││              │»\n",
       " q_6: ┤1      ├┤3             ├┤3            ├┤3             ├┤3             ├»\n",
       "      │       ││              ││             ││              ││              │»\n",
       " q_7: ┤2 QFT5 ├┤4             ├┤4            ├┤4             ├┤4             ├»\n",
       "      │       ││              ││             ││              ││              │»\n",
       " q_8: ┤3      ├┤5             ├┤5            ├┤5             ├┤5             ├»\n",
       "      │       ││              ││             ││              ││              │»\n",
       " q_9: ┤4      ├┤6             ├┤6            ├┤6             ├┤6             ├»\n",
       "      └───────┘│              ││             ││              ││              │»\n",
       "q_10: ─────────┤7             ├┤7            ├┤7             ├┤7             ├»\n",
       "               └──────────────┘└─────────────┘└──────────────┘└──────────────┘»\n",
       "«                  \n",
       "« q_0: ────────────\n",
       "«                  \n",
       "« q_1: ────────────\n",
       "«                  \n",
       "« q_2: ────────────\n",
       "«                  \n",
       "« q_3: ────────────\n",
       "«                  \n",
       "« q_4: ────────────\n",
       "«      ┌──────────┐\n",
       "« q_5: ┤0         ├\n",
       "«      │          │\n",
       "« q_6: ┤1         ├\n",
       "«      │          │\n",
       "« q_7: ┤2 QFT5_dg ├\n",
       "«      │          │\n",
       "« q_8: ┤3         ├\n",
       "«      │          │\n",
       "« q_9: ┤4         ├\n",
       "«      └──────────┘\n",
       "«q_10: ────────────\n",
       "«                  </pre>"
      ],
      "text/plain": [
       "               ┌──────────────┐┌─────────────┐┌──────────────┐┌──────────────┐»\n",
       " q_0: ─────────┤0             ├┤0            ├┤0             ├┤0             ├»\n",
       "               │              ││             ││              ││              │»\n",
       " q_1: ─────────┤1             ├┤             ├┤              ├┤              ├»\n",
       "               │              ││             ││              ││              │»\n",
       " q_2: ─────────┤              ├┤1            ├┤              ├┤              ├»\n",
       "               │              ││             ││              ││              │»\n",
       " q_3: ─────────┤              ├┤             ├┤1             ├┤              ├»\n",
       "               │              ││             ││              ││              │»\n",
       " q_4: ─────────┤              ├┤             ├┤              ├┤1             ├»\n",
       "      ┌───────┐│              ││             ││              ││              │»\n",
       " q_5: ┤0      ├┤2 cadd11mod15 ├┤2 cadd7mod15 ├┤2 cadd14mod15 ├┤2 cadd13mod15 ├»\n",
       "      │       ││              ││             ││              ││              │»\n",
       " q_6: ┤1      ├┤3             ├┤3            ├┤3             ├┤3             ├»\n",
       "      │       ││              ││             ││              ││              │»\n",
       " q_7: ┤2 QFT5 ├┤4             ├┤4            ├┤4             ├┤4             ├»\n",
       "      │       ││              ││             ││              ││              │»\n",
       " q_8: ┤3      ├┤5             ├┤5            ├┤5             ├┤5             ├»\n",
       "      │       ││              ││             ││              ││              │»\n",
       " q_9: ┤4      ├┤6             ├┤6            ├┤6             ├┤6             ├»\n",
       "      └───────┘│              ││             ││              ││              │»\n",
       "q_10: ─────────┤7             ├┤7            ├┤7             ├┤7             ├»\n",
       "               └──────────────┘└─────────────┘└──────────────┘└──────────────┘»\n",
       "«                  \n",
       "« q_0: ────────────\n",
       "«                  \n",
       "« q_1: ────────────\n",
       "«                  \n",
       "« q_2: ────────────\n",
       "«                  \n",
       "« q_3: ────────────\n",
       "«                  \n",
       "« q_4: ────────────\n",
       "«      ┌──────────┐\n",
       "« q_5: ┤0         ├\n",
       "«      │          │\n",
       "« q_6: ┤1         ├\n",
       "«      │          │\n",
       "« q_7: ┤2 QFT5_dg ├\n",
       "«      │          │\n",
       "« q_8: ┤3         ├\n",
       "«      │          │\n",
       "« q_9: ┤4         ├\n",
       "«      └──────────┘\n",
       "«q_10: ────────────\n",
       "«                  "
      ]
     },
     "execution_count": 301,
     "metadata": {},
     "output_type": "execute_result"
    }
   ],
   "source": [
    "def c_mod_mult(qc, a, N): # a-val szoroz moduló N\n",
    "    n = N.bit_length()\n",
    "    #qc = QuantumCircuit(2*n+3)\n",
    "    qc.append(qft(n+1), range(n+1, 2*n+2))\n",
    "    for i in range(n):\n",
    "        mod = a*(2**i) % N\n",
    "        qc.append(c2_mod_add(mod, N), [0,i+1]+list(range(n+1, 2*n+3)))\n",
    "    qc.append(qft(n+1).inverse(), range(n+1, 2*n+2))\n",
    "    return qc\n",
    "qc = QuantumCircuit(11)\n",
    "c_mod_mult(qc, 11, 15)\n",
    "sc = qk.compiler.transpile(qc, simulator, optimization_level=1)\n",
    "print(sc.depth(), sc.count_ops())\n",
    "qc.draw()"
   ]
  },
  {
   "cell_type": "code",
   "execution_count": 8,
   "metadata": {},
   "outputs": [],
   "source": [
    "# 0: control | range(1, n+1): number to be multiplied | range(n+1, 2n+3): c_mod_add -> result\n",
    "def c_mod_mult(a, N): # a-val szoroz moduló N\n",
    "    n = N.bit_length()\n",
    "    qc = QuantumCircuit(2*n+3)\n",
    "    qc.append(qft(n+1), range(n+1, 2*n+2))\n",
    "    for i in range(n):\n",
    "        mod = a*(2**i) % N\n",
    "        qc.append(c2_mod_add(mod, N), [0,i+1]+list(range(n+1, 2*n+3)))\n",
    "    qc.append(qft(n+1).inverse(), range(n+1, 2*n+2))\n",
    "    gate = qc.to_gate()\n",
    "    gate.name = 'cmult{}mod{}'.format(a, N)\n",
    "    return gate"
   ]
  },
  {
   "cell_type": "code",
   "execution_count": 9,
   "metadata": {},
   "outputs": [],
   "source": [
    "def gcd(m, n): # euclid's algorithm\n",
    "    a = max(m,n)\n",
    "    b = min(m,n)\n",
    "    if a%b == 0:\n",
    "        return a, b\n",
    "    c = a % b\n",
    "    return gcd(b, c) # c a legnagyobb közös osztó\n",
    "\n",
    "def mod_inv(a, N): # a and N have to be coprime\n",
    "    if gcd(a, N)[1] != 1:\n",
    "        raise ValueError(\"a and N have to be coprime\")\n",
    "    a = a%N\n",
    "    k = [0, 1]\n",
    "    m = [N, a]\n",
    "    while m[1] != 1:\n",
    "        tmp = m[0]\n",
    "        p = tmp//m[1]\n",
    "        m[0] = m[1]\n",
    "        m[1] = tmp - p*m[1]\n",
    "        tmp1 = k[0]\n",
    "        k[0] = k[1]\n",
    "        k[1] = tmp1 - p*k[1]\n",
    "    return k[1]%N"
   ]
  },
  {
   "cell_type": "code",
   "execution_count": 10,
   "metadata": {},
   "outputs": [],
   "source": [
    "def swap():\n",
    "    qc = QuantumCircuit(2)\n",
    "    qc.swap(0, 1)\n",
    "    gate = qc.to_gate()\n",
    "    gate.name = 'swap'\n",
    "    return gate\n",
    "\n",
    "# 0: control | range(1, n+1): number to be multiplied | range(n+1, 2n+3): auxiliary       \n",
    "def c_U(a, N): # multiplies with 'a' mod N, 'a' and N have to be coprime\n",
    "    n = N.bit_length()\n",
    "    qc = QuantumCircuit(2*n+3)\n",
    "    qc.append(c_mod_mult(a, N), range(2*n+3))\n",
    "    for i in range(n):\n",
    "        qc.append(swap().control(), [0, i+1, n+i+1])\n",
    "    qc.append(c_mod_mult(mod_inv(a, N), N).inverse(), range(2*n+3))\n",
    "    gate = qc.to_gate()\n",
    "    gate.name = 'cU_{},{}'.format(N, a)\n",
    "    return gate"
   ]
  },
  {
   "cell_type": "code",
   "execution_count": 314,
   "metadata": {},
   "outputs": [
    {
     "name": "stdout",
     "output_type": "stream",
     "text": [
      "1915 OrderedDict([('u1', 1826), ('cx', 1640), ('u2', 176), ('x', 16), ('u3', 4)])\n"
     ]
    },
    {
     "data": {
      "text/html": [
       "<pre style=\"word-wrap: normal;white-space: pre;background: #fff0;line-height: 1.1;font-family: &quot;Courier New&quot;,Courier,monospace\">      ┌───────────────┐            ┌──────────────────┐\n",
       " q_0: ┤0              ├─■──■──■──■─┤0                 ├\n",
       "      │               │ │  │  │  │ │                  │\n",
       " q_1: ┤1              ├─X──┼──┼──┼─┤1                 ├\n",
       "      │               │ │  │  │  │ │                  │\n",
       " q_2: ┤2              ├─┼──X──┼──┼─┤2                 ├\n",
       "      │               │ │  │  │  │ │                  │\n",
       " q_3: ┤3              ├─┼──┼──X──┼─┤3                 ├\n",
       "      │               │ │  │  │  │ │                  │\n",
       " q_4: ┤4              ├─┼──┼──┼──X─┤4                 ├\n",
       "      │               │ │  │  │  │ │                  │\n",
       " q_5: ┤5  cmult4mod15 ├─X──┼──┼──┼─┤5  cmult4mod15_dg ├\n",
       "      │               │    │  │  │ │                  │\n",
       " q_6: ┤6              ├────X──┼──┼─┤6                 ├\n",
       "      │               │       │  │ │                  │\n",
       " q_7: ┤7              ├───────X──┼─┤7                 ├\n",
       "      │               │          │ │                  │\n",
       " q_8: ┤8              ├──────────X─┤8                 ├\n",
       "      │               │            │                  │\n",
       " q_9: ┤9              ├────────────┤9                 ├\n",
       "      │               │            │                  │\n",
       "q_10: ┤10             ├────────────┤10                ├\n",
       "      └───────────────┘            └──────────────────┘</pre>"
      ],
      "text/plain": [
       "      ┌───────────────┐            ┌──────────────────┐\n",
       " q_0: ┤0              ├─■──■──■──■─┤0                 ├\n",
       "      │               │ │  │  │  │ │                  │\n",
       " q_1: ┤1              ├─X──┼──┼──┼─┤1                 ├\n",
       "      │               │ │  │  │  │ │                  │\n",
       " q_2: ┤2              ├─┼──X──┼──┼─┤2                 ├\n",
       "      │               │ │  │  │  │ │                  │\n",
       " q_3: ┤3              ├─┼──┼──X──┼─┤3                 ├\n",
       "      │               │ │  │  │  │ │                  │\n",
       " q_4: ┤4              ├─┼──┼──┼──X─┤4                 ├\n",
       "      │               │ │  │  │  │ │                  │\n",
       " q_5: ┤5  cmult4mod15 ├─X──┼──┼──┼─┤5  cmult4mod15_dg ├\n",
       "      │               │    │  │  │ │                  │\n",
       " q_6: ┤6              ├────X──┼──┼─┤6                 ├\n",
       "      │               │       │  │ │                  │\n",
       " q_7: ┤7              ├───────X──┼─┤7                 ├\n",
       "      │               │          │ │                  │\n",
       " q_8: ┤8              ├──────────X─┤8                 ├\n",
       "      │               │            │                  │\n",
       " q_9: ┤9              ├────────────┤9                 ├\n",
       "      │               │            │                  │\n",
       "q_10: ┤10             ├────────────┤10                ├\n",
       "      └───────────────┘            └──────────────────┘"
      ]
     },
     "execution_count": 314,
     "metadata": {},
     "output_type": "execute_result"
    }
   ],
   "source": [
    "def c_U(qc,a, N): # multiplies with 'a' mod N, 'a' and N have to be coprime\n",
    "    n = N.bit_length()\n",
    "    #qc = QuantumCircuit(2*n+3)\n",
    "    qc.append(c_mod_mult(a, N), range(2*n+3))\n",
    "    for i in range(n):\n",
    "        qc.append(swap().control(), [0, i+1, n+i+1])\n",
    "    qc.append(c_mod_mult(mod_inv(a, N), N).inverse(), range(2*n+3))\n",
    "    return qc\n",
    "qc = QuantumCircuit(11)\n",
    "c_U(qc, 4, 15)\n",
    "sc = qk.compiler.transpile(qc, simulator, optimization_level=1)\n",
    "print(sc.depth(), sc.count_ops())\n",
    "qc.draw()"
   ]
  },
  {
   "cell_type": "code",
   "execution_count": 11,
   "metadata": {},
   "outputs": [],
   "source": [
    "# az U operátor sajátfázisának közelítő értékét adja vissza\n",
    "def Shor_phase_est(a, N, cbits=3): # cbits: 2*n+bits control qubitet használ\n",
    "    n = N.bit_length()\n",
    "    qc = QuantumCircuit(4*n+2+cbits)\n",
    "    qc.x([2*n+cbits])\n",
    "    qc.h(range(2*n+cbits))\n",
    "    for i in range(2*n+cbits):\n",
    "        mod = two_pow_mod(a, i, N)\n",
    "        qc.append(c_U(mod, N), [2*n+cbits-1-i]+list(range(2*n+cbits, 4*n+2+cbits)))\n",
    "    for i in range(n+cbits//2):\n",
    "        qc.swap(i, 2*n+cbits-1-i)\n",
    "    qc.append(qft(2*n+cbits).inverse(), range(2*n+cbits))\n",
    "    gate = qc.to_gate()\n",
    "    gate.name = 'phase_est'\n",
    "    return gate"
   ]
  },
  {
   "cell_type": "code",
   "execution_count": 321,
   "metadata": {
    "scrolled": true
   },
   "outputs": [
    {
     "name": "stdout",
     "output_type": "stream",
     "text": [
      "21006 OrderedDict([('u1', 20240), ('cx', 18060), ('u2', 1938), ('x', 176), ('u3', 45)])\n"
     ]
    },
    {
     "data": {
      "text/html": [
       "<pre style=\"word-wrap: normal;white-space: pre;background: #fff0;line-height: 1.1;font-family: &quot;Courier New&quot;,Courier,monospace\">      ┌───┐                                                                 »\n",
       " q_0: ┤ H ├─────────────────────────────────────────────────────────────────»\n",
       "      ├───┤                                                                 »\n",
       " q_1: ┤ H ├─────────────────────────────────────────────────────────────────»\n",
       "      ├───┤                                                                 »\n",
       " q_2: ┤ H ├─────────────────────────────────────────────────────────────────»\n",
       "      ├───┤                                                                 »\n",
       " q_3: ┤ H ├─────────────────────────────────────────────────────────────────»\n",
       "      ├───┤                                                                 »\n",
       " q_4: ┤ H ├─────────────────────────────────────────────────────────────────»\n",
       "      ├───┤                                                                 »\n",
       " q_5: ┤ H ├─────────────────────────────────────────────────────────────────»\n",
       "      ├───┤                                                    ┌───────────┐»\n",
       " q_6: ┤ H ├────────────────────────────────────────────────────┤0          ├»\n",
       "      ├───┤                                       ┌───────────┐│           │»\n",
       " q_7: ┤ H ├───────────────────────────────────────┤0          ├┤           ├»\n",
       "      ├───┤                          ┌───────────┐│           ││           │»\n",
       " q_8: ┤ H ├──────────────────────────┤0          ├┤           ├┤           ├»\n",
       "      ├───┤             ┌───────────┐│           ││           ││           │»\n",
       " q_9: ┤ H ├─────────────┤0          ├┤           ├┤           ├┤           ├»\n",
       "      ├───┤┌───────────┐│           ││           ││           ││           │»\n",
       "q_10: ┤ H ├┤0          ├┤           ├┤           ├┤           ├┤           ├»\n",
       "      ├───┤│           ││           ││           ││           ││           │»\n",
       "q_11: ┤ X ├┤1          ├┤1          ├┤1          ├┤1          ├┤1          ├»\n",
       "      └───┘│           ││           ││           ││           ││           │»\n",
       "q_12: ─────┤2          ├┤2          ├┤2          ├┤2          ├┤2          ├»\n",
       "           │           ││           ││           ││           ││           │»\n",
       "q_13: ─────┤3          ├┤3          ├┤3          ├┤3          ├┤3  cU_15,1 ├»\n",
       "           │           ││           ││           ││   cU_15,1 ││           │»\n",
       "q_14: ─────┤4          ├┤4          ├┤4  cU_15,1 ├┤4          ├┤4          ├»\n",
       "           │           ││   cU_15,1 ││           ││           ││           │»\n",
       "q_15: ─────┤5  cU_15,4 ├┤5          ├┤5          ├┤5          ├┤5          ├»\n",
       "           │           ││           ││           ││           ││           │»\n",
       "q_16: ─────┤6          ├┤6          ├┤6          ├┤6          ├┤6          ├»\n",
       "           │           ││           ││           ││           ││           │»\n",
       "q_17: ─────┤7          ├┤7          ├┤7          ├┤7          ├┤7          ├»\n",
       "           │           ││           ││           ││           ││           │»\n",
       "q_18: ─────┤8          ├┤8          ├┤8          ├┤8          ├┤8          ├»\n",
       "           │           ││           ││           ││           ││           │»\n",
       "q_19: ─────┤9          ├┤9          ├┤9          ├┤9          ├┤9          ├»\n",
       "           │           ││           ││           ││           ││           │»\n",
       "q_20: ─────┤10         ├┤10         ├┤10         ├┤10         ├┤10         ├»\n",
       "           └───────────┘└───────────┘└───────────┘└───────────┘└───────────┘»\n",
       "«                                                                             »\n",
       "« q_0: ───────────────────────────────────────────────────────────────────────»\n",
       "«                                                                ┌───────────┐»\n",
       "« q_1: ──────────────────────────────────────────────────────────┤0          ├»\n",
       "«                                                ┌───────────┐   │           │»\n",
       "« q_2: ──────────────────────────────────────────┤0          ├───┤           ├»\n",
       "«                                ┌───────────┐   │           │   │           │»\n",
       "« q_3: ──────────────────────────┤0          ├───┤           ├─X─┤           ├»\n",
       "«                   ┌───────────┐│           │   │           │ │ │           │»\n",
       "« q_4: ─────────────┤0          ├┤           ├─X─┤           ├─┼─┤           ├»\n",
       "«      ┌───────────┐│           ││           │ │ │           │ │ │           │»\n",
       "« q_5: ┤0          ├┤           ├┤           ├─┼─┤           ├─┼─┤           ├»\n",
       "«      │           ││           ││           │ │ │           │ │ │           │»\n",
       "« q_6: ┤           ├┤           ├┤           ├─X─┤           ├─┼─┤           ├»\n",
       "«      │           ││           ││           │   │           │ │ │           │»\n",
       "« q_7: ┤           ├┤           ├┤           ├───┤           ├─X─┤           ├»\n",
       "«      │           ││           ││           │   │           │   │           │»\n",
       "« q_8: ┤           ├┤           ├┤           ├───┤           ├───┤           ├»\n",
       "«      │           ││           ││           │   │           │   │           │»\n",
       "« q_9: ┤           ├┤           ├┤           ├───┤           ├───┤           ├»\n",
       "«      │           ││           ││           │   │           │   │           │»\n",
       "«q_10: ┤           ├┤           ├┤           ├───┤           ├───┤           ├»\n",
       "«      │           ││           ││           │   │           │   │   cU_15,1 │»\n",
       "«q_11: ┤1          ├┤1          ├┤1          ├───┤1  cU_15,1 ├───┤1          ├»\n",
       "«      │           ││           ││   cU_15,1 │   │           │   │           │»\n",
       "«q_12: ┤2          ├┤2  cU_15,1 ├┤2          ├───┤2          ├───┤2          ├»\n",
       "«      │   cU_15,1 ││           ││           │   │           │   │           │»\n",
       "«q_13: ┤3          ├┤3          ├┤3          ├───┤3          ├───┤3          ├»\n",
       "«      │           ││           ││           │   │           │   │           │»\n",
       "«q_14: ┤4          ├┤4          ├┤4          ├───┤4          ├───┤4          ├»\n",
       "«      │           ││           ││           │   │           │   │           │»\n",
       "«q_15: ┤5          ├┤5          ├┤5          ├───┤5          ├───┤5          ├»\n",
       "«      │           ││           ││           │   │           │   │           │»\n",
       "«q_16: ┤6          ├┤6          ├┤6          ├───┤6          ├───┤6          ├»\n",
       "«      │           ││           ││           │   │           │   │           │»\n",
       "«q_17: ┤7          ├┤7          ├┤7          ├───┤7          ├───┤7          ├»\n",
       "«      │           ││           ││           │   │           │   │           │»\n",
       "«q_18: ┤8          ├┤8          ├┤8          ├───┤8          ├───┤8          ├»\n",
       "«      │           ││           ││           │   │           │   │           │»\n",
       "«q_19: ┤9          ├┤9          ├┤9          ├───┤9          ├───┤9          ├»\n",
       "«      │           ││           ││           │   │           │   │           │»\n",
       "«q_20: ┤10         ├┤10         ├┤10         ├───┤10         ├───┤10         ├»\n",
       "«      └───────────┘└───────────┘└───────────┘   └───────────┘   └───────────┘»\n",
       "«         ┌───────────┐      ┌────────────┐\n",
       "« q_0: ───┤0          ├────X─┤0           ├\n",
       "«         │           │    │ │            │\n",
       "« q_1: ───┤           ├─X──┼─┤1           ├\n",
       "«         │           │ │  │ │            │\n",
       "« q_2: ─X─┤           ├─┼──┼─┤2           ├\n",
       "«       │ │           │ │  │ │            │\n",
       "« q_3: ─┼─┤           ├─┼──┼─┤3           ├\n",
       "«       │ │           │ │  │ │            │\n",
       "« q_4: ─┼─┤           ├─┼──┼─┤4           ├\n",
       "«       │ │           │ │  │ │            │\n",
       "« q_5: ─┼─┤           ├─┼──┼─┤5  QFT11_dg ├\n",
       "«       │ │           │ │  │ │            │\n",
       "« q_6: ─┼─┤           ├─┼──┼─┤6           ├\n",
       "«       │ │           │ │  │ │            │\n",
       "« q_7: ─┼─┤           ├─┼──┼─┤7           ├\n",
       "«       │ │           │ │  │ │            │\n",
       "« q_8: ─X─┤           ├─┼──┼─┤8           ├\n",
       "«         │           │ │  │ │            │\n",
       "« q_9: ───┤           ├─X──┼─┤9           ├\n",
       "«         │           │    │ │            │\n",
       "«q_10: ───┤   cU_15,1 ├────X─┤10          ├\n",
       "«         │           │      └────────────┘\n",
       "«q_11: ───┤1          ├────────────────────\n",
       "«         │           │                    \n",
       "«q_12: ───┤2          ├────────────────────\n",
       "«         │           │                    \n",
       "«q_13: ───┤3          ├────────────────────\n",
       "«         │           │                    \n",
       "«q_14: ───┤4          ├────────────────────\n",
       "«         │           │                    \n",
       "«q_15: ───┤5          ├────────────────────\n",
       "«         │           │                    \n",
       "«q_16: ───┤6          ├────────────────────\n",
       "«         │           │                    \n",
       "«q_17: ───┤7          ├────────────────────\n",
       "«         │           │                    \n",
       "«q_18: ───┤8          ├────────────────────\n",
       "«         │           │                    \n",
       "«q_19: ───┤9          ├────────────────────\n",
       "«         │           │                    \n",
       "«q_20: ───┤10         ├────────────────────\n",
       "«         └───────────┘                    </pre>"
      ],
      "text/plain": [
       "      ┌───┐                                                                 »\n",
       " q_0: ┤ H ├─────────────────────────────────────────────────────────────────»\n",
       "      ├───┤                                                                 »\n",
       " q_1: ┤ H ├─────────────────────────────────────────────────────────────────»\n",
       "      ├───┤                                                                 »\n",
       " q_2: ┤ H ├─────────────────────────────────────────────────────────────────»\n",
       "      ├───┤                                                                 »\n",
       " q_3: ┤ H ├─────────────────────────────────────────────────────────────────»\n",
       "      ├───┤                                                                 »\n",
       " q_4: ┤ H ├─────────────────────────────────────────────────────────────────»\n",
       "      ├───┤                                                                 »\n",
       " q_5: ┤ H ├─────────────────────────────────────────────────────────────────»\n",
       "      ├───┤                                                    ┌───────────┐»\n",
       " q_6: ┤ H ├────────────────────────────────────────────────────┤0          ├»\n",
       "      ├───┤                                       ┌───────────┐│           │»\n",
       " q_7: ┤ H ├───────────────────────────────────────┤0          ├┤           ├»\n",
       "      ├───┤                          ┌───────────┐│           ││           │»\n",
       " q_8: ┤ H ├──────────────────────────┤0          ├┤           ├┤           ├»\n",
       "      ├───┤             ┌───────────┐│           ││           ││           │»\n",
       " q_9: ┤ H ├─────────────┤0          ├┤           ├┤           ├┤           ├»\n",
       "      ├───┤┌───────────┐│           ││           ││           ││           │»\n",
       "q_10: ┤ H ├┤0          ├┤           ├┤           ├┤           ├┤           ├»\n",
       "      ├───┤│           ││           ││           ││           ││           │»\n",
       "q_11: ┤ X ├┤1          ├┤1          ├┤1          ├┤1          ├┤1          ├»\n",
       "      └───┘│           ││           ││           ││           ││           │»\n",
       "q_12: ─────┤2          ├┤2          ├┤2          ├┤2          ├┤2          ├»\n",
       "           │           ││           ││           ││           ││           │»\n",
       "q_13: ─────┤3          ├┤3          ├┤3          ├┤3          ├┤3  cU_15,1 ├»\n",
       "           │           ││           ││           ││   cU_15,1 ││           │»\n",
       "q_14: ─────┤4          ├┤4          ├┤4  cU_15,1 ├┤4          ├┤4          ├»\n",
       "           │           ││   cU_15,1 ││           ││           ││           │»\n",
       "q_15: ─────┤5  cU_15,4 ├┤5          ├┤5          ├┤5          ├┤5          ├»\n",
       "           │           ││           ││           ││           ││           │»\n",
       "q_16: ─────┤6          ├┤6          ├┤6          ├┤6          ├┤6          ├»\n",
       "           │           ││           ││           ││           ││           │»\n",
       "q_17: ─────┤7          ├┤7          ├┤7          ├┤7          ├┤7          ├»\n",
       "           │           ││           ││           ││           ││           │»\n",
       "q_18: ─────┤8          ├┤8          ├┤8          ├┤8          ├┤8          ├»\n",
       "           │           ││           ││           ││           ││           │»\n",
       "q_19: ─────┤9          ├┤9          ├┤9          ├┤9          ├┤9          ├»\n",
       "           │           ││           ││           ││           ││           │»\n",
       "q_20: ─────┤10         ├┤10         ├┤10         ├┤10         ├┤10         ├»\n",
       "           └───────────┘└───────────┘└───────────┘└───────────┘└───────────┘»\n",
       "«                                                                             »\n",
       "« q_0: ───────────────────────────────────────────────────────────────────────»\n",
       "«                                                                ┌───────────┐»\n",
       "« q_1: ──────────────────────────────────────────────────────────┤0          ├»\n",
       "«                                                ┌───────────┐   │           │»\n",
       "« q_2: ──────────────────────────────────────────┤0          ├───┤           ├»\n",
       "«                                ┌───────────┐   │           │   │           │»\n",
       "« q_3: ──────────────────────────┤0          ├───┤           ├─X─┤           ├»\n",
       "«                   ┌───────────┐│           │   │           │ │ │           │»\n",
       "« q_4: ─────────────┤0          ├┤           ├─X─┤           ├─┼─┤           ├»\n",
       "«      ┌───────────┐│           ││           │ │ │           │ │ │           │»\n",
       "« q_5: ┤0          ├┤           ├┤           ├─┼─┤           ├─┼─┤           ├»\n",
       "«      │           ││           ││           │ │ │           │ │ │           │»\n",
       "« q_6: ┤           ├┤           ├┤           ├─X─┤           ├─┼─┤           ├»\n",
       "«      │           ││           ││           │   │           │ │ │           │»\n",
       "« q_7: ┤           ├┤           ├┤           ├───┤           ├─X─┤           ├»\n",
       "«      │           ││           ││           │   │           │   │           │»\n",
       "« q_8: ┤           ├┤           ├┤           ├───┤           ├───┤           ├»\n",
       "«      │           ││           ││           │   │           │   │           │»\n",
       "« q_9: ┤           ├┤           ├┤           ├───┤           ├───┤           ├»\n",
       "«      │           ││           ││           │   │           │   │           │»\n",
       "«q_10: ┤           ├┤           ├┤           ├───┤           ├───┤           ├»\n",
       "«      │           ││           ││           │   │           │   │   cU_15,1 │»\n",
       "«q_11: ┤1          ├┤1          ├┤1          ├───┤1  cU_15,1 ├───┤1          ├»\n",
       "«      │           ││           ││   cU_15,1 │   │           │   │           │»\n",
       "«q_12: ┤2          ├┤2  cU_15,1 ├┤2          ├───┤2          ├───┤2          ├»\n",
       "«      │   cU_15,1 ││           ││           │   │           │   │           │»\n",
       "«q_13: ┤3          ├┤3          ├┤3          ├───┤3          ├───┤3          ├»\n",
       "«      │           ││           ││           │   │           │   │           │»\n",
       "«q_14: ┤4          ├┤4          ├┤4          ├───┤4          ├───┤4          ├»\n",
       "«      │           ││           ││           │   │           │   │           │»\n",
       "«q_15: ┤5          ├┤5          ├┤5          ├───┤5          ├───┤5          ├»\n",
       "«      │           ││           ││           │   │           │   │           │»\n",
       "«q_16: ┤6          ├┤6          ├┤6          ├───┤6          ├───┤6          ├»\n",
       "«      │           ││           ││           │   │           │   │           │»\n",
       "«q_17: ┤7          ├┤7          ├┤7          ├───┤7          ├───┤7          ├»\n",
       "«      │           ││           ││           │   │           │   │           │»\n",
       "«q_18: ┤8          ├┤8          ├┤8          ├───┤8          ├───┤8          ├»\n",
       "«      │           ││           ││           │   │           │   │           │»\n",
       "«q_19: ┤9          ├┤9          ├┤9          ├───┤9          ├───┤9          ├»\n",
       "«      │           ││           ││           │   │           │   │           │»\n",
       "«q_20: ┤10         ├┤10         ├┤10         ├───┤10         ├───┤10         ├»\n",
       "«      └───────────┘└───────────┘└───────────┘   └───────────┘   └───────────┘»\n",
       "«         ┌───────────┐      ┌────────────┐\n",
       "« q_0: ───┤0          ├────X─┤0           ├\n",
       "«         │           │    │ │            │\n",
       "« q_1: ───┤           ├─X──┼─┤1           ├\n",
       "«         │           │ │  │ │            │\n",
       "« q_2: ─X─┤           ├─┼──┼─┤2           ├\n",
       "«       │ │           │ │  │ │            │\n",
       "« q_3: ─┼─┤           ├─┼──┼─┤3           ├\n",
       "«       │ │           │ │  │ │            │\n",
       "« q_4: ─┼─┤           ├─┼──┼─┤4           ├\n",
       "«       │ │           │ │  │ │            │\n",
       "« q_5: ─┼─┤           ├─┼──┼─┤5  QFT11_dg ├\n",
       "«       │ │           │ │  │ │            │\n",
       "« q_6: ─┼─┤           ├─┼──┼─┤6           ├\n",
       "«       │ │           │ │  │ │            │\n",
       "« q_7: ─┼─┤           ├─┼──┼─┤7           ├\n",
       "«       │ │           │ │  │ │            │\n",
       "« q_8: ─X─┤           ├─┼──┼─┤8           ├\n",
       "«         │           │ │  │ │            │\n",
       "« q_9: ───┤           ├─X──┼─┤9           ├\n",
       "«         │           │    │ │            │\n",
       "«q_10: ───┤   cU_15,1 ├────X─┤10          ├\n",
       "«         │           │      └────────────┘\n",
       "«q_11: ───┤1          ├────────────────────\n",
       "«         │           │                    \n",
       "«q_12: ───┤2          ├────────────────────\n",
       "«         │           │                    \n",
       "«q_13: ───┤3          ├────────────────────\n",
       "«         │           │                    \n",
       "«q_14: ───┤4          ├────────────────────\n",
       "«         │           │                    \n",
       "«q_15: ───┤5          ├────────────────────\n",
       "«         │           │                    \n",
       "«q_16: ───┤6          ├────────────────────\n",
       "«         │           │                    \n",
       "«q_17: ───┤7          ├────────────────────\n",
       "«         │           │                    \n",
       "«q_18: ───┤8          ├────────────────────\n",
       "«         │           │                    \n",
       "«q_19: ───┤9          ├────────────────────\n",
       "«         │           │                    \n",
       "«q_20: ───┤10         ├────────────────────\n",
       "«         └───────────┘                    "
      ]
     },
     "execution_count": 321,
     "metadata": {},
     "output_type": "execute_result"
    }
   ],
   "source": [
    "def Shor_phase_est(qc, a, N, cbits=3): # cbits: 2*n+cbits control qubitet használ\n",
    "    n = N.bit_length()\n",
    "    #qc = QuantumCircuit(4*n+2+cbits)\n",
    "    qc.x([2*n+cbits])\n",
    "    qc.h(range(2*n+cbits))\n",
    "    for i in range(2*n+cbits):\n",
    "        mod = two_pow_mod(a, i, N)\n",
    "        qc.append(c_U(mod, N), [2*n+cbits-1-i]+list(range(2*n+cbits, 4*n+2+cbits)))\n",
    "    for i in range(n+cbits//2):\n",
    "        qc.swap(i, 2*n+cbits-1-i)\n",
    "    qc.append(qft(2*n+cbits).inverse(), range(2*n+cbits))\n",
    "    return qc\n",
    "\n",
    "N=15\n",
    "n= N.bit_length()\n",
    "qc = QuantumCircuit(4*n+5)\n",
    "Shor_phase_est(qc, 4, N)\n",
    "sc = qk.compiler.transpile(qc, simulator, optimization_level=1)\n",
    "print(sc.depth(), sc.count_ops())\n",
    "qc.draw()\n"
   ]
  },
  {
   "cell_type": "markdown",
   "metadata": {},
   "source": [
    "## Kvantum áramkör tesztelése, jellemzői"
   ]
  },
  {
   "cell_type": "markdown",
   "metadata": {},
   "source": [
    "### Erőforrásigény"
   ]
  },
  {
   "cell_type": "code",
   "execution_count": 29,
   "metadata": {},
   "outputs": [
    {
     "name": "stdout",
     "output_type": "stream",
     "text": [
      "19488\n"
     ]
    }
   ],
   "source": [
    "def dep(n):\n",
    "    return 232*n**3+282*n**2+32*n\n",
    "\n",
    "def cx(n):\n",
    "    return 16*n**4+152*n**3+188*n**2+104*n\n",
    "\n",
    "def sing(n):\n",
    "    return 24*n**4 + 176*n**3 + 230*n**2 + 139*n"
   ]
  },
  {
   "cell_type": "code",
   "execution_count": 325,
   "metadata": {},
   "outputs": [
    {
     "name": "stdout",
     "output_type": "stream",
     "text": [
      "15270 OrderedDict([('u1', 14683), ('cx', 13116), ('u2', 1410), ('x', 128), ('u3', 34)])\n",
      "15270 OrderedDict([('u1', 14684), ('cx', 13116), ('u2', 1410), ('x', 128), ('u3', 33)])\n",
      "15594 OrderedDict([('u1', 14948), ('cx', 13356), ('u2', 1420), ('x', 128), ('u3', 29)])\n",
      "15274 OrderedDict([('u1', 14683), ('cx', 13116), ('u2', 1410), ('x', 128), ('u3', 34)])\n",
      "15590 OrderedDict([('u1', 14946), ('cx', 13356), ('u2', 1422), ('x', 128), ('u3', 29)])\n",
      "15594 OrderedDict([('u1', 14948), ('cx', 13356), ('u2', 1420), ('x', 128), ('u3', 29)])\n",
      "15590 OrderedDict([('u1', 14948), ('cx', 13356), ('u2', 1418), ('x', 128), ('u3', 31)])\n"
     ]
    }
   ],
   "source": [
    "N = 15\n",
    "n = N.bit_length()\n",
    "for a in range(2, N):\n",
    "    if gcd(a, N)[1]==1:\n",
    "        qc = QuantumCircuit(4*n+2)\n",
    "        qc.append(Shor_phase_est(a, N, cbits=0), range(4*n+2))\n",
    "        sc = qk.compiler.transpile(qc, simulator)\n",
    "        print(sc.depth(), sc.count_ops())"
   ]
  },
  {
   "cell_type": "code",
   "execution_count": 326,
   "metadata": {},
   "outputs": [
    {
     "data": {
      "text/plain": [
       "16255"
      ]
     },
     "execution_count": 326,
     "metadata": {},
     "output_type": "execute_result"
    }
   ],
   "source": [
    "l= [('u1', 14683), ('cx', 13116), ('u2', 1410), ('x', 128), ('u3', 34)]\n",
    "l[0][1]+l[2][1]+l[3][1]+l[4][1]"
   ]
  },
  {
   "cell_type": "code",
   "execution_count": 101,
   "metadata": {},
   "outputs": [
    {
     "data": {
      "text/plain": [
       "[24775, 24775, 26287, 24775, 26287, 26287, 26287]"
      ]
     },
     "execution_count": 101,
     "metadata": {},
     "output_type": "execute_result"
    }
   ],
   "source": [
    "depth = [16726, 16726, 18854, 16726, 18854, 18854, 18854]\n",
    "cnot = [14268, 14268, 15612, 14268, 15612, 15612, 15612]\n",
    "single = [17983, 17983, 19495, 17983, 19495, 19495, 19495]"
   ]
  },
  {
   "cell_type": "code",
   "execution_count": 90,
   "metadata": {},
   "outputs": [
    {
     "name": "stdout",
     "output_type": "stream",
     "text": [
      "21339 OrderedDict([('cx', 17704), ('u1', 15509), ('u2', 2886), ('u3', 749), ('x', 176)])\n",
      "21331 OrderedDict([('cx', 17682), ('u1', 15487), ('u2', 2884), ('u3', 749), ('x', 176)])\n",
      "23588 OrderedDict([('cx', 19059), ('u1', 16855), ('u2', 2898), ('u3', 755), ('x', 176)])\n",
      "21336 OrderedDict([('cx', 17705), ('u1', 15509), ('u2', 2892), ('u3', 752), ('x', 176)])\n",
      "23581 OrderedDict([('cx', 19035), ('u1', 16835), ('u2', 2886), ('u3', 751), ('x', 176)])\n",
      "23588 OrderedDict([('cx', 19059), ('u1', 16856), ('u2', 2898), ('u3', 753), ('x', 176)])\n",
      "23581 OrderedDict([('cx', 19035), ('u1', 16836), ('u2', 2884), ('u3', 752), ('x', 176)])\n"
     ]
    }
   ],
   "source": [
    "N = 15\n",
    "n = N.bit_length()\n",
    "for a in range(2, N):\n",
    "    if gcd(a, N)[1]==1:\n",
    "        qc = QuantumCircuit(4*n+5)\n",
    "        qc.append(Shor_phase_est(a, N), range(4*n+5))\n",
    "        sc = qk.compiler.transpile(qc, simulator, optimization_level=3)\n",
    "        print(sc.depth(), sc.count_ops())"
   ]
  },
  {
   "cell_type": "code",
   "execution_count": 336,
   "metadata": {},
   "outputs": [
    {
     "data": {
      "text/plain": [
       "66489"
      ]
     },
     "execution_count": 336,
     "metadata": {},
     "output_type": "execute_result"
    }
   ],
   "source": [
    "sc.count_ops()['u1']+sc.count_ops()['u2']+sc.count_ops()['u3']+sc.count_ops()['x']"
   ]
  },
  {
   "cell_type": "code",
   "execution_count": 45,
   "metadata": {
    "scrolled": true
   },
   "outputs": [
    {
     "name": "stdout",
     "output_type": "stream",
     "text": [
      "13 15\n",
      "16 21\n",
      "5 33\n",
      "8 35\n",
      "14 39\n",
      "14 45\n",
      "26 51\n",
      "21 55\n",
      "55 57\n",
      "5 63\n",
      "23 65\n",
      "32 69\n",
      "52 75\n",
      "31 77\n",
      "28 85\n",
      "49 87\n",
      "57 91\n",
      "29 93\n",
      "16 95\n",
      "59 99\n",
      "17 105\n",
      "71 111\n",
      "84 115\n",
      "112 117\n",
      "108 119\n",
      "67 123\n"
     ]
    }
   ],
   "source": [
    "compl = {}\n",
    "compl['a'] = {}\n",
    "compl['depth'] = {}\n",
    "compl['single'] = {}\n",
    "compl['cnot'] = {}\n",
    "for N in range(2, 128):\n",
    "    if find_int_pow(N)[1] == 1 and N%2 != 0 and is_prime(N)==False:\n",
    "        n = N.bit_length()\n",
    "        a = random.randint(2, N-1)\n",
    "        while gcd(a, N)[1] != 1:\n",
    "            a = random.randint(2, N-1)\n",
    "        qc = QuantumCircuit(4*n+2)\n",
    "        qc.append(Shor_phase_est(a, N, cbits=0), range(4*n+2))\n",
    "        sc = qk.compiler.transpile(qc, simulator)\n",
    "        single = sc.count_ops()['u1']+sc.count_ops()['u2']+sc.count_ops()['u3']+sc.count_ops()['x']\n",
    "        cnot = sc.count_ops()['cx']\n",
    "        depth = sc.depth()\n",
    "        compl['depth'][N] = depth\n",
    "        compl['single'][N] = single\n",
    "        compl['cnot'] = cnot\n",
    "        compl['a'][N] = a\n",
    "        print(a, N)"
   ]
  },
  {
   "cell_type": "code",
   "execution_count": 46,
   "metadata": {},
   "outputs": [
    {
     "name": "stdout",
     "output_type": "stream",
     "text": [
      "{'a': {15: 13, 21: 16, 33: 5, 35: 8, 39: 14, 45: 14, 51: 26, 55: 21, 57: 55, 63: 5, 65: 23, 69: 32, 75: 52, 77: 31, 85: 28, 87: 49, 91: 57, 93: 29, 95: 16, 99: 59, 105: 17, 111: 71, 115: 84, 117: 112, 119: 108, 123: 67}, 'depth': {15: 15594, 21: 28910, 33: 50902, 35: 46642, 39: 46132, 45: 52198, 51: 46048, 55: 46128, 57: 51094, 63: 54356, 65: 79952, 69: 80680, 75: 81352, 77: 80422, 85: 72688, 87: 81270, 91: 70754, 93: 75472, 95: 79764, 99: 80684, 105: 77290, 111: 80664, 115: 81300, 117: 82942, 119: 80636, 123: 78760}, 'single': {15: 16525, 21: 34428, 33: 66003, 35: 62250, 39: 61790, 45: 67083, 51: 61737, 55: 61791, 57: 66149, 63: 68838, 65: 112868, 69: 113377, 75: 113977, 77: 113086, 85: 106444, 87: 113842, 91: 104716, 93: 108982, 95: 112600, 99: 113516, 105: 110527, 111: 113329, 115: 113892, 117: 115354, 119: 113329, 123: 111790}, 'cnot': 85104}\n"
     ]
    }
   ],
   "source": [
    "print(compl)"
   ]
  },
  {
   "cell_type": "code",
   "execution_count": 54,
   "metadata": {},
   "outputs": [
    {
     "data": {
      "text/plain": [
       "[<matplotlib.lines.Line2D at 0x2510eb6c940>]"
      ]
     },
     "execution_count": 54,
     "metadata": {},
     "output_type": "execute_result"
    },
    {
     "data": {
      "image/png": "[encoded data removed]",
      "text/plain": [
       "<Figure size 720x432 with 1 Axes>"
      ]
     },
     "metadata": {
      "needs_background": "light"
     },
     "output_type": "display_data"
    }
   ],
   "source": [
    "fig, ax = plt.subplots(figsize=(10, 6))\n",
    "ax.plot(compl['depth'].keys(), [dep(N.bit_length()) for N in compl['depth'].keys()], '.')\n",
    "ax.plot(compl['depth'].keys(), compl['depth'].values(), '.')\n"
   ]
  },
  {
   "cell_type": "code",
   "execution_count": 40,
   "metadata": {},
   "outputs": [],
   "source": [
    "compl = {'depth': [15270, 15270, 15594, 15274, 15590, 15594, 28898, 28906, 29226, 27802, 29298, 28926, 28130, 28910, 29238, \n",
    "                   29294, 50423, 50924, 50902, 51338, 51037, 45995, 51001, 51296, 50912, 50457, 51296, 50888, 46245, 50912, \n",
    "                   51338, 51039, 51116, 50916, 51126, 51530, 51520, 45940, 46642, 51584, 51806, 51520, 46962, 51818, 51906, \n",
    "                   51144, 51884, 46672, 51712, 51862, 52092, 46926, 46256, 52042, 51726, 51892, 50416, 50788, 46480, 51034, \n",
    "                   46454, 50828, 50942, 46132, 51074, 51352, 51218, 50418, 51062, 51366, 46128, 51036, 51434, 46912, 50952, \n",
    "                   46920, 51392, 51216, 51402, 51796, 51890, 46638, 52420, 51924, 52198, 52154, 46676, 46256, 52092, 51428, \n",
    "                   46076, 46972, 52248, 52142, 51950, 51868, 46988, 51936, 52390, 52086, 46014, 45902, 47458, 47406, 46164, \n",
    "                   47372, 47280, 45932, 47270, 45674, 46724, 47360, 47452, 47370, 46810, 46048, 47304, 47530, 47362, 46168, \n",
    "                   46256, 47482, 46522, 47428, 47448, 46754, 47508, 47418, 46526, 46780, 51136, 52162, 51520, 52098, 51948, \n",
    "                   51880, 52278, 46668, 51786, 51542, 52008, 51850, 52342, 51942, 46128, 46718, 52158, 52016, 52004, 51204, \n",
    "                   51872, 52004, 46702, 46132, 52004, 52242, 51776, 52226, 52230, 51672, 46710, 52114, 52376, 52388, 52312, \n",
    "                   52226, 52328, 51936, 50473, 51086, 51386, 54068, 53641, 50902, 54029, 51325, 51498, 51082, 51089, 45980, \n",
    "                   51371, 51440, 51086, 54062, 51082, 50494, 53986, 51203, 51552, 51328, 46116, 50910, 51307, 51082, 51224, \n",
    "                   53969, 51115, 54068, 53728, 51522, 51569, 51094, 45214, 45198, 54356, 45414, 54380, 54534, 54412, 45206, \n",
    "                   54372, 54412, 54380, 54554, 54530, 54530, 54412, 54554, 46096, 45210, 54380, 54554, 54392, 54348, 54404, \n",
    "                   54554, 54554, 54554, 46104, 54554, 54384, 54550, 46312, 54530, 46096, 46104, 78660, 79839, 79195, 79853, \n",
    "                   79408, 70868, 79746, 79939, 71094, 70274, 79625, 79908, 71298, 79971, 71554, 79908, 79952, 79994, 71379, \n",
    "                   79402, 79836, 71575, 79427, 78678, 71278, 79825, 79491, 71130, 80087, 80039, 80235, 71330, 80082, 71344, \n",
    "                   80069, 79274, 70466, 71366, 80266, 79802, 70909, 79522, 80228, 79613, 80214, 79439, 79954, 80794, 80568, \n",
    "                   81904, 80678, 81892, 80714, 81712, 80624, 81682, 81670, 81388, 81052, 70296, 80956, 80706, 80658, 81682, \n",
    "                   81362, 80680, 81002, 79990, 80718, 81058, 81422, 80638, 81282, 80650, 70604, 81380, 81656, 80838, 82008, \n",
    "                   80880, 82016, 80984, 82220, 81252, 82208, 80836, 81640, 80982],\n",
    "         'single': [16255, 16255, 16525, 16255, 16525, 16525, 34428, 34428, 34698, 33456, 34752, 34428, 33726, 34428, 34698, \n",
    "                    34752, 65624, 66033, 66003, 66360, 66172, 61636, 66112, 66360, 66033, 65624, 66359, 66003, 61855, 66033, \n",
    "                    66359, 66113, 66169, 66033, 66138, 66460, 66489, 61627, 62250, 66489, 66705, 66460, 62493, 66705, 66786, \n",
    "                    66138, 66757, 62250, 66624, 66759, 66921, 62491, 61899, 66919, 66624, 66786, 65517, 65841, 62088, 66029, \n",
    "                    62088, 65841, 65949, 61790, 66057, 66300, 66192, 65517, 66057, 66299, 61791, 66029, 66354, 62465, 65949, \n",
    "                    62466, 66353, 66192, 66408, 66759, 66813, 62250, 67245, 66813, 67083, 67029, 62250, 61899, 66975, 66408, \n",
    "                    61737, 62520, 67083, 67029, 66840, 66759, 62520, 66840, 67245, 66975, 61737, 61629, 62952, 62924, 61845, \n",
    "                    62898, 62789, 61629, 62789, 61413, 62331, 62870, 62924, 62871, 62385, 61737, 62843, 63005, 62843, 61845, \n",
    "                    61899, 62952, 62142, 62951, 62951, 62331, 63005, 62897, 62142, 62385, 66165, 67029, 66462, 66948, 66786, \n",
    "                    66786, 67110, 62277, 66705, 66462, 66867, 66705, 67137, 66786, 61791, 62277, 67029, 66867, 66840, 66165, \n",
    "                    66786, 66867, 62277, 61791, 66867, 67029, 66624, 67029, 67056, 66624, 62277, 66948, 67191, 67191, 67110, \n",
    "                    67056, 67137, 66840, 65634, 66149, 66419, 68637, 68312, 65987, 68609, 66364, 66527, 66149, 66148, 61659, \n",
    "                    66365, 66420, 66149, 68611, 66149, 65636, 68556, 66282, 66528, 66312, 61768, 65987, 66286, 66149, 66308, \n",
    "                    68555, 66151, 68637, 68314, 66528, 66529, 66149, 61197, 61197, 68838, 61197, 68838, 68973, 68838, 61197, \n",
    "                    68838, 68838, 68838, 68973, 68973, 68973, 68838, 68973, 61953, 61197, 68838, 68973, 68838, 68838, 68838, \n",
    "                    68973, 68973, 68973, 61953, 68973, 68838, 68973, 61953, 68973, 61953, 61953, 111810, 112812, 112301, \n",
    "                    112839, 112434, 104818, 112760, 112845, 105003, 104271, 112626, 112868, 105164, 112921, 105381, 112815, \n",
    "                    112868, 112927, 105221, 112434, 112758, 105382, 112463, 111810, 105164, 112783, 112513, 105004, 113006, \n",
    "                    112975, 113113, 105165, 113003, 105169, 112978, 112297, 104432, 105220, 113143, 112792, 104813, 112514, \n",
    "                    113138, 112626, 113111, 112463, 112812, 113513, 113323, 114404, 113406, 114402, 113403, 114241, 113323, \n",
    "                    114242, 114214, 113999, 113699, 104338, 113649, 113403, 113406, 114214, 113972, 113377, 113673, 112809, \n",
    "                    113402, 113703, 113998, 113378, 113890, 113406, 104608, 113971, 114215, 113511, 114510, 113538, 114512, \n",
    "                    113646, 114674, 113890, 114673, 113541, 114213, 113676], \n",
    "         'cnot': [13116, 13116, 13356, 13116, 13356, 13356, 27078, 27078, 27318, 26214, 27366, 27078, 26454, 27078, 27318, \n",
    "                  27366, 50730, 51090, 51066, 51378, 51210, 47202, 51162, 51378, 51090, 50730, 51378, 51066, 47394, 51090, \n",
    "                  51378, 51162, 51210, 51090, 51162, 51450, 51474, 47154, 47706, 51474, 51666, 51450, 47922, 51666, 51738, \n",
    "                  51162, 51714, 47706, 51594, 51714, 51858, 47922, 47394, 51858, 51594, 51738, 50610, 50898, 47562, 51066, \n",
    "                  47562, 50898, 50994, 47298, 51090, 51306, 51210, 50610, 51090, 51306, 47298, 51066, 51354, 47898, 50994, \n",
    "                  47898, 51354, 51210, 51402, 51714, 51762, 47706, 52146, 51762, 52002, 51954, 47706, 47394, 51906, 51402, \n",
    "                  47250, 47946, 52002, 51954, 51786, 51714, 47946, 51786, 52146, 51906, 47250, 47154, 48330, 48306, 47346, \n",
    "                  48282, 48186, 47154, 48186, 46962, 47778, 48258, 48306, 48258, 47826, 47250, 48234, 48378, 48234, 47346, \n",
    "                  47394, 48330, 47610, 48330, 48330, 47778, 48378, 48282, 47610, 47826, 51186, 51954, 51450, 51882, 51738, \n",
    "                  51738, 52026, 47730, 51666, 51450, 51810, 51666, 52050, 51738, 47298, 47730, 51954, 51810, 51786, 51186, \n",
    "                  51738, 51810, 47730, 47298, 51810, 51954, 51594, 51954, 51978, 51594, 47730, 51882, 52098, 52098, 52026, \n",
    "                  51978, 52050, 51786, 50730, 51186, 51426, 53394, 53106, 51042, 53370, 51378, 51522, 51186, 51186, 47202, \n",
    "                  51378, 51426, 51186, 53370, 51186, 50730, 53322, 51306, 51522, 51330, 47298, 51042, 51306, 51186, 51330, \n",
    "                  53322, 51186, 53394, 53106, 51522, 51522, 51186, 46770, 46770, 53562, 46770, 53562, 53682, 53562, 46770, \n",
    "                  53562, 53562, 53562, 53682, 53682, 53682, 53562, 53682, 47442, 46770, 53562, 53682, 53562, 53562, 53562, \n",
    "                  53682, 53682, 53682, 47442, 53682, 53562, 53682, 47442, 53682, 47442, 47442, 85152, 86040, 85584, 86064, \n",
    "                  85704, 78960, 85992, 86064, 79128, 78480, 85872, 86088, 79272, 86136, 79464, 86040, 86088, 86136, 79320, \n",
    "                  85704, 85992, 79464, 85728, 85152, 79272, 86016, 85776, 79128, 86208, 86184, 86304, 79272, 86208, 79272, \n",
    "                  86184, 85584, 78624, 79320, 86328, 86016, 78960, 85776, 86328, 85872, 86304, 85728, 86016, 86640, 86472, \n",
    "                  87432, 86544, 87432, 86544, 87288, 86472, 87288, 87264, 87072, 86808, 78480, 86760, 86544, 86544, 87264, \n",
    "                  87048, 86520, 86784, 86016, 86544, 86808, 87072, 86520, 86976, 86544, 78720, 87048, 87264, 86640, 87528, \n",
    "                  86664, 87528, 86760, 87672, 86976, 87672, 86664, 87264, 86784]}"
   ]
  },
  {
   "cell_type": "code",
   "execution_count": 43,
   "metadata": {},
   "outputs": [],
   "source": [
    "depth = {}\n",
    "single = {}\n",
    "cnot = {}\n",
    "i = 0\n",
    "for N in range(2, 70):\n",
    "    if find_int_pow(N)[1] == 1 and N%2 != 0 and is_prime(N)==False:\n",
    "        depth[N] = []\n",
    "        single[N] = []\n",
    "        cnot[N] = []\n",
    "        for a in range(2, N-1):\n",
    "            if gcd(a, N)[1] == 1:\n",
    "                depth[N].append(compl['depth'][i])\n",
    "                single[N].append(compl['single'][i])\n",
    "                cnot[N].append(compl['cnot'][i])\n",
    "                i += 1"
   ]
  },
  {
   "cell_type": "code",
   "execution_count": 44,
   "metadata": {},
   "outputs": [
    {
     "data": {
      "text/plain": [
       "Text(0, 0.5, 'egy qubites kapuk száma')"
      ]
     },
     "execution_count": 44,
     "metadata": {},
     "output_type": "execute_result"
    },
    {
     "data": {
      "image/png": "[encoded data removed]",
      "text/plain": [
       "<Figure size 720x432 with 1 Axes>"
      ]
     },
     "metadata": {
      "needs_background": "light"
     },
     "output_type": "display_data"
    },
    {
     "data": {
      "image/png": "[encoded data removed]",
      "text/plain": [
       "<Figure size 720x432 with 1 Axes>"
      ]
     },
     "metadata": {
      "needs_background": "light"
     },
     "output_type": "display_data"
    },
    {
     "data": {
      "image/png": "[encoded data removed]",
      "text/plain": [
       "<Figure size 720x432 with 1 Axes>"
      ]
     },
     "metadata": {
      "needs_background": "light"
     },
     "output_type": "display_data"
    }
   ],
   "source": [
    "fig, ax = plt.subplots(figsize=(10, 6))\n",
    "ax.plot(depth.keys(), [max(depth[N]) for N in depth.keys()], '.')\n",
    "ax.plot(depth.keys(), [dep(N.bit_length()) for N in depth.keys()], '.')\n",
    "ax.set_xlabel('N')\n",
    "ax.set_ylabel('mélység')\n",
    "\n",
    "fig, ax = plt.subplots(figsize=(10, 6))\n",
    "ax.plot(single.keys(), [max(single[N]) for N in single.keys()], '.')\n",
    "ax.plot(single.keys(), [sing(N.bit_length()) for N in single.keys()], '.')\n",
    "ax.set_ylabel(\"'cnot'-ok száma\")\n",
    "ax.set_xlabel('N')\n",
    "\n",
    "fig, ax = plt.subplots(figsize=(10, 6))\n",
    "ax.plot(cnot.keys(), [max(cnot[N]) for N in cnot.keys()], '.')\n",
    "ax.plot(cnot.keys(), [cx(N.bit_length()) for N in cnot.keys()], '.')\n",
    "ax.set_xlabel('N')\n",
    "ax.set_ylabel('egy qubites kapuk száma')\n"
   ]
  },
  {
   "cell_type": "code",
   "execution_count": 9,
   "metadata": {},
   "outputs": [],
   "source": [
    "# nem végleges, nem működik jól ('feed-forward'-ra lenne szükség a megvalósításhoz)\n",
    "def Shor_phase_est2(a, N, device=Aer.get_backend('qasm_simulator')): # uses semi classical QFT_dg,\n",
    "    n = N.bit_length()\n",
    "    result = []\n",
    "    for i in range(2*n+3):\n",
    "        qc = QuantumCircuit(2*n+3, 1)\n",
    "        qc.x(1)\n",
    "        qc.h(0)\n",
    "        mod = two_pow_mod(a, 2*n+2-i, N)\n",
    "        qc.append(c_U(mod, N), range(2*n+3))\n",
    "        qc.h(0)\n",
    "        num = 0\n",
    "        for j in range(len(result)):\n",
    "            num += result[j]*(2**j)\n",
    "        qc.p(-num*np.pi/2**i, 0)\n",
    "        qc.measure(0, 0)\n",
    "        job = execute(qc, device, shots=1)\n",
    "        job_monitor(job)\n",
    "        counts = job.result().get_counts()\n",
    "        result.append(int(list(counts)[0]))\n",
    "        print(result)\n",
    "    return result # bits are in reversed order"
   ]
  },
  {
   "cell_type": "markdown",
   "metadata": {},
   "source": [
    "### N=15"
   ]
  },
  {
   "cell_type": "code",
   "execution_count": 77,
   "metadata": {},
   "outputs": [
    {
     "name": "stdout",
     "output_type": "stream",
     "text": [
      "101 OrderedDict([('rz', 72), ('sx', 63), ('cx', 46), ('measure', 4), ('barrier', 1)])\n"
     ]
    }
   ],
   "source": [
    "N = 15\n",
    "n = N.bit_length()\n",
    "a = 7\n",
    "qc = QuantumCircuit(4, 4)\n",
    "qc.append(qft(n), range(4))\n",
    "qc.append(F_add(n, a), range(n))\n",
    "qc.append(qft(n).inverse(), range(n))\n",
    "qc.measure(range(4), range(4))\n",
    "\n",
    "sc = qk.compiler.transpile(qc, real2, optimization_level=3)\n",
    "print(sc.depth(), sc.count_ops())"
   ]
  },
  {
   "cell_type": "code",
   "execution_count": 78,
   "metadata": {},
   "outputs": [
    {
     "name": "stdout",
     "output_type": "stream",
     "text": [
      "Job Status: job has successfully run\n"
     ]
    }
   ],
   "source": [
    "job = execute(sc, real2, shots=5)\n",
    "job_monitor(job)\n",
    "result = job.result()\n",
    "counts = result.get_counts()"
   ]
  },
  {
   "cell_type": "code",
   "execution_count": 79,
   "metadata": {},
   "outputs": [
    {
     "name": "stdout",
     "output_type": "stream",
     "text": [
      "{'0010': 1, '0111': 1, '1010': 1, '1100': 2}\n"
     ]
    }
   ],
   "source": [
    "print(counts)"
   ]
  },
  {
   "cell_type": "markdown",
   "metadata": {},
   "source": [
    "## Bitstring eloszlás"
   ]
  },
  {
   "cell_type": "code",
   "execution_count": 21,
   "metadata": {},
   "outputs": [],
   "source": [
    "N = 21\n",
    "a = 5\n",
    "n = N.bit_length()\n",
    "def circ(cbits):\n",
    "    qc1 = QuantumCircuit(4*n+5,2*n+cbits)\n",
    "    qc1.append(Shor_phase_est(a, N, cbits=cbits), range(4*n+2+cbits))\n",
    "    qc1.measure(range(2*n+cbits), range(2*n+cbits))\n",
    "    return qc1\n",
    "    \n",
    "circs = [circ(i) for i in range(-4, 4)]"
   ]
  },
  {
   "cell_type": "code",
   "execution_count": 22,
   "metadata": {
    "scrolled": true
   },
   "outputs": [],
   "source": [
    "simulator = Aer.get_backend('qasm_simulator')\n",
    "job1 = execute(circs, simulator, shots=1024)\n",
    "result1 = job1.result()\n",
    "counts1 = result1.get_counts()"
   ]
  },
  {
   "cell_type": "code",
   "execution_count": 56,
   "metadata": {},
   "outputs": [],
   "source": [
    "c = []\n",
    "for i in range(len(counts1)):    \n",
    "    c.append(list(counts1[i]))\n",
    "    #print(counts1[i], len(counts1[i]))\n",
    "\n",
    "len(counts1)\n",
    "m = len(list(counts1[-1])[0])-2*n + 1"
   ]
  },
  {
   "cell_type": "code",
   "execution_count": 58,
   "metadata": {
    "scrolled": true
   },
   "outputs": [
    {
     "data": {
      "image/png": "[encoded data removed]",
      "text/plain": [
       "<Figure size 1080x720 with 1 Axes>"
      ]
     },
     "metadata": {
      "needs_background": "light"
     },
     "output_type": "display_data"
    },
    {
     "data": {
      "image/png": "[encoded data removed]",
      "text/plain": [
       "<Figure size 1080x720 with 1 Axes>"
      ]
     },
     "metadata": {
      "needs_background": "light"
     },
     "output_type": "display_data"
    },
    {
     "data": {
      "image/png": "[encoded data removed]",
      "text/plain": [
       "<Figure size 1080x720 with 1 Axes>"
      ]
     },
     "metadata": {
      "needs_background": "light"
     },
     "output_type": "display_data"
    },
    {
     "data": {
      "image/png": "[encoded data removed]",
      "text/plain": [
       "<Figure size 1080x720 with 1 Axes>"
      ]
     },
     "metadata": {
      "needs_background": "light"
     },
     "output_type": "display_data"
    },
    {
     "data": {
      "image/png": "[encoded data removed]",
      "text/plain": [
       "<Figure size 1080x720 with 1 Axes>"
      ]
     },
     "metadata": {
      "needs_background": "light"
     },
     "output_type": "display_data"
    },
    {
     "data": {
      "image/png": "[encoded data removed]",
      "text/plain": [
       "<Figure size 1080x720 with 1 Axes>"
      ]
     },
     "metadata": {
      "needs_background": "light"
     },
     "output_type": "display_data"
    },
    {
     "data": {
      "image/png": "[encoded data removed]",
      "text/plain": [
       "<Figure size 1080x720 with 1 Axes>"
      ]
     },
     "metadata": {
      "needs_background": "light"
     },
     "output_type": "display_data"
    },
    {
     "data": {
      "image/png": "[encoded data removed]",
      "text/plain": [
       "<Figure size 1080x720 with 1 Axes>"
      ]
     },
     "metadata": {
      "needs_background": "light"
     },
     "output_type": "display_data"
    }
   ],
   "source": [
    "b = 5\n",
    "r = order_classic(b, N)\n",
    "for cbits in range(len(counts1)):\n",
    "    frac = {}\n",
    "    num = {} # adott bitstring mérésének száma\n",
    "    nbits = 2*n+cbits-4\n",
    "    a = np.zeros(len(c[cbits]))\n",
    "    for j in range(len(c[cbits])):\n",
    "        bits = list(c[cbits])[j]\n",
    "        for i in range(nbits):\n",
    "            a[j] += int(bits[i])*2**(nbits-1-i)\n",
    "        f = a[j]/2**(nbits)\n",
    "        if a[j] in num.keys():\n",
    "            num[a[j]] = num[a[j]] + counts1[cbits][bits]\n",
    "        else:\n",
    "            num[a[j]] = counts1[cbits][bits]\n",
    "        if f in frac.keys():\n",
    "            frac[f] = frac[f] + counts1[cbits][bits]\n",
    "        else:\n",
    "            frac[f] = counts1[cbits][bits]\n",
    "    M = 2**nbits\n",
    "    success = []\n",
    "    fail = []\n",
    "    for i in range(M):\n",
    "        m, q = convergents(cont_frac(i, M))\n",
    "        q = np.array(q, dtype = int)\n",
    "        r1 = max(q[q <= N])\n",
    "        if i in num.keys():\n",
    "            if r == r1:\n",
    "                success.append(i)\n",
    "            else:\n",
    "                fail.append(i)\n",
    "    success = np.array(success)\n",
    "    fig, ax = plt.subplots(figsize=(15,10))\n",
    "    ax.bar(success, [num[i] for i in success], width=2*2**(cbits-4))\n",
    "    ax.bar(fail, [num[i] for i in fail], width=2*2**(cbits-4))\n",
    "    ax.set_title('%i kontrol qubit' %nbits)"
   ]
  },
  {
   "cell_type": "markdown",
   "metadata": {},
   "source": [
    "## Számelméleti segédfüggvények"
   ]
  },
  {
   "cell_type": "code",
   "execution_count": 12,
   "metadata": {},
   "outputs": [],
   "source": [
    "def cont_frac(p, q, a=[]):\n",
    "    b = list(np.copy(a))\n",
    "    b.append(p//q)\n",
    "    if p%q == 0:\n",
    "        return b\n",
    "    return cont_frac(q, p-(p//q)*q, b)\n",
    "\n",
    "def convergents(a):\n",
    "    if len(a) == 1:\n",
    "        return a[0], 1\n",
    "    p = [a[0], 1+a[0]*a[1]]\n",
    "    q = [1, a[1]]\n",
    "    for i in range(2, len(a)):\n",
    "        p.append(a[i]*p[i-1]+p[i-2])\n",
    "        q.append(a[i]*q[i-1]+q[i-2])\n",
    "    return p, q\n",
    "\n",
    "def order_classic(a, N): \n",
    "    if gcd(a, N)[1] != 1:\n",
    "        raise ValueError(\"a and N have to be coprime\")\n",
    "    s = 1\n",
    "    i = 0\n",
    "    while i == 0 or s != 1:\n",
    "        s = (a*s) % N\n",
    "        i += 1\n",
    "    return i"
   ]
  },
  {
   "cell_type": "code",
   "execution_count": 13,
   "metadata": {},
   "outputs": [],
   "source": [
    "def int_nth_root(A, n): #calculate floor of nth root of A\n",
    "    if A<0:\n",
    "        if n%2 == 0:\n",
    "            raise ValueError\n",
    "        return -int_nth_root(-A,n)\n",
    "    if A==0:\n",
    "        return 0\n",
    "    n1 = n-1\n",
    "    if A.bit_length() < 1024: # float(n) safe from overflow\n",
    "        xk = int( round( pow(A,1.0/n) ) )\n",
    "        xk = ( n1*xk + A//pow(xk,n1) )//n # Ensure xk >= floor(nthroot(A)).\n",
    "    else:\n",
    "        xk = 1 << -(-A.bit_length()//n) # 1 << sum(divmod(A.bit_length(),n))\n",
    "                                        # power of 2 closer but greater than the nth root of A\n",
    "    while True:\n",
    "        d = A // pow(xk,n1)\n",
    "        if xk <= d:\n",
    "            return xk\n",
    "        xk = (n1*xk + d)//n"
   ]
  },
  {
   "cell_type": "code",
   "execution_count": 14,
   "metadata": {},
   "outputs": [],
   "source": [
    "def two_pow(A, k): #computes A**(2**k), A: L bit int, k < log(L)\n",
    "    result = np.copy(A)\n",
    "    for i in range(k): # k multiplying operations\n",
    "        result = result**2 \n",
    "    return result  # max O(L^2*log(L)) operations\n",
    "\n",
    "\n",
    "def int_pow(A, n): #computes A**n in polynomal time, A: L bit int, n < L\n",
    "    n_bin = list(bin(n))\n",
    "    index = n_bin.index('b')\n",
    "    n_bin = n_bin[index+1:]\n",
    "    l = len(n_bin) # l < log(L)\n",
    "    result = 1\n",
    "    for i in range(l):\n",
    "        bit = int(n_bin[l-i-1])\n",
    "        if bit == 1:\n",
    "            result = result*two_pow(A, i)\n",
    "    return result #max O(log(L)*L^2*log(L))"
   ]
  },
  {
   "cell_type": "code",
   "execution_count": 15,
   "metadata": {},
   "outputs": [],
   "source": [
    "def two_pow_mod(A, k, N): #computes A**(2**k) mod N, A: L bit int, k < log(L)\n",
    "    result = np.copy(A)\n",
    "    for i in range(k): # k multiplying operations\n",
    "        result = result**2 % N\n",
    "    return result  # max O(L^2*log(L)) operations\n",
    "\n",
    "def int_pow_mod(A, n, N): #computes A**n mod N in polynomal time, A: L bit int, n < L\n",
    "    n_bin = list(bin(n))\n",
    "    index = n_bin.index('b')\n",
    "    n_bin = n_bin[index+1:]\n",
    "    l = len(n_bin) # l < log(L)\n",
    "    result = 1\n",
    "    for i in range(l):\n",
    "        bit = int(n_bin[l-i-1])\n",
    "        if bit == 1:\n",
    "            result = result*two_pow_mod(A, i, N) % N\n",
    "    return result # max O(log(L)*L^2*log(L))"
   ]
  },
  {
   "cell_type": "code",
   "execution_count": 16,
   "metadata": {},
   "outputs": [],
   "source": [
    "def find_int_pow(N):\n",
    "    n = N.bit_length()\n",
    "    for i in range(2, n):\n",
    "        a = int_nth_root(N, i)\n",
    "        if int_pow(a, i) == N:\n",
    "            return a, i\n",
    "    return N, 1"
   ]
  },
  {
   "cell_type": "code",
   "execution_count": 17,
   "metadata": {},
   "outputs": [],
   "source": [
    "# determines if n is probably-prime or composite using miller rabin test. Tests k times\n",
    "def is_prime(n, k=20): # miller-rabin test\n",
    "    if n == 2:\n",
    "        return True\n",
    "    for _ in range(k):\n",
    "        witness = 1\n",
    "        a = random.randint(2, n-1)\n",
    "        if gcd(a, n)[1] != 1:\n",
    "            return False\n",
    "        d = n-1\n",
    "        r = 0\n",
    "        while d % 2 == 0:\n",
    "            d = d//2\n",
    "            r += 1\n",
    "        s = int_pow_mod(a, d, n)\n",
    "        if s == 1:\n",
    "            witness = 0\n",
    "        for i in range(r):\n",
    "            if s == n-1:\n",
    "                witness = 0\n",
    "            s = s**2 % n\n",
    "        if witness == 1:\n",
    "            return False\n",
    "    return True"
   ]
  },
  {
   "cell_type": "markdown",
   "metadata": {},
   "source": [
    "## Periódus kereső és Shor algoritmusok"
   ]
  },
  {
   "cell_type": "code",
   "execution_count": 18,
   "metadata": {},
   "outputs": [],
   "source": [
    "def order(a, N, device = Aer.get_backend('qasm_simulator'), cbits=3, basis_gates=None, noise_model=None): # order of a mod N \n",
    "    n = N.bit_length()\n",
    "    qc = QuantumCircuit(4*n+5,2*n+cbits)\n",
    "    qc.append(Shor_phase_est(a, N, cbits=cbits), range(4*n+2+cbits))\n",
    "    qc.measure(range(2*n+cbits), range(2*n+cbits))\n",
    "    m = 0\n",
    "    num = 1\n",
    "    i = 0\n",
    "    while (m != 1 or num == 0) and i < 50:\n",
    "        job = execute(qc, device, shots=1, basis_gates=basis_gates, noise_model=noise_model)\n",
    "        counts = job.result().get_counts()\n",
    "        print(counts)\n",
    "        #job_monitor(job)\n",
    "        estimate = 0\n",
    "        bits = list(list(counts)[0])\n",
    "        for j in range(2*n+cbits):\n",
    "            estimate += int(bits[j])*2**(2*n+cbits-1-j)\n",
    "        p, q = convergents(cont_frac(estimate, 2**(2*n+cbits)))\n",
    "        q = np.array(q, dtype = int)\n",
    "        p = np.array(p, dtype = int)\n",
    "        r = max(q[q <= N])\n",
    "        num = max(p[q <= N])\n",
    "        m = int_pow_mod(a, r, N)\n",
    "        \n",
    "        \n",
    "        # ha a periódus páros számú többszörösét találtuk meg (valami hiba folytán), akkor módosítani kell\n",
    "        while int_pow_mod(a, r//2, N) == 1 and r//2 != 0:\n",
    "            m = int_pow_mod(a, r//2, N)\n",
    "            r = r//2\n",
    "        i += 1\n",
    "        print('r:',r)\n",
    "        print('i:', i)\n",
    "        if i == 50:\n",
    "            raise RuntimeError\n",
    "        \n",
    "    return r, i"
   ]
  },
  {
   "cell_type": "code",
   "execution_count": 19,
   "metadata": {},
   "outputs": [],
   "source": [
    "def Shor(N, cbits=3): # Shor's algorithm, returns list with prime factors\n",
    "    factors = [] # we collect the factors here\n",
    "    \n",
    "    if is_prime(N, 20) == True: # cheking if N is prime\n",
    "        return [N]\n",
    "    \n",
    "    if N%2 == 0: # cheking if N is even\n",
    "        factors = [2] + Shor(N//2)\n",
    "        return factors\n",
    "    \n",
    "    base, power = find_int_pow(N)\n",
    "    if power != 1: # cheking if N is a power of a prime\n",
    "        factors = power * Shor(base)\n",
    "        factors.sort()\n",
    "        return factors\n",
    "    \n",
    "    r = 1\n",
    "    while r % 2 != 0 or int_pow_mod(a, r//2, N) == N-1:\n",
    "        a = random.randint(2, N-2)\n",
    "        print('a:',a)\n",
    "        if gcd(a, N)[1] != 1:  #cheking if N and a are coprime\n",
    "            devisor = gcd(a, N)[1]\n",
    "            factors = Shor(devisor) + Shor(N//devisor)\n",
    "            factors.sort()\n",
    "            return factors\n",
    "        \n",
    "        r, i = order(a, N, cbits=cbits) # returns order of 'a' mod N (quantum part)\n",
    "        h = int_pow_mod(a, r//2, N)\n",
    "        dev1 = gcd(N, h-1)[1]\n",
    "        dev2 = gcd(N, h+1)[1]\n",
    "        if (N % dev2 == 0) and (dev2 != 1) and (N != dev2):\n",
    "            factors = Shor(dev2) + Shor(N//dev2)\n",
    "            factors.sort()\n",
    "            return factors\n",
    "        elif (N % dev1) == 0 and (dev1 != 1) and (N != dev1):\n",
    "            factors = Shor(dev1) + Shor(N//dev1)\n",
    "            factors.sort()\n",
    "            return factors"
   ]
  },
  {
   "cell_type": "code",
   "execution_count": 75,
   "metadata": {},
   "outputs": [
    {
     "data": {
      "text/plain": [
       "<qiskit.circuit.instructionset.InstructionSet at 0x21624e0fa90>"
      ]
     },
     "execution_count": 75,
     "metadata": {},
     "output_type": "execute_result"
    }
   ],
   "source": [
    "N = 15\n",
    "a = 7\n",
    "n = N.bit_length()\n",
    "cbits = 3-2*n\n",
    "qc = QuantumCircuit(4*n+2+cbits, 3)\n",
    "qc.append(Shor_phase_est(a, N, cbits=cbits), range(4*n+2+cbits))\n",
    "qc.measure(range(3), range(3))"
   ]
  },
  {
   "cell_type": "code",
   "execution_count": 111,
   "metadata": {},
   "outputs": [],
   "source": [
    "job = execute(qc, simulator ,shots=50)\n",
    "result = job.result()\n",
    "counts = result.get_counts()"
   ]
  },
  {
   "cell_type": "code",
   "execution_count": 115,
   "metadata": {},
   "outputs": [
    {
     "name": "stdout",
     "output_type": "stream",
     "text": [
      "{'010': 14, '100': 13, '000': 14, '110': 9}\n"
     ]
    }
   ],
   "source": [
    "print(counts)"
   ]
  },
  {
   "cell_type": "code",
   "execution_count": 126,
   "metadata": {},
   "outputs": [
    {
     "name": "stdout",
     "output_type": "stream",
     "text": [
      "a: 13\n",
      "{'00': 1}\n",
      "r: 1\n",
      "i: 1\n",
      "{'11': 1}\n",
      "r: 4\n",
      "i: 2\n"
     ]
    },
    {
     "data": {
      "text/plain": [
       "[3, 5]"
      ]
     },
     "execution_count": 126,
     "metadata": {},
     "output_type": "execute_result"
    }
   ],
   "source": [
    "Shor(15, cbits=2-2*n)"
   ]
  },
  {
   "cell_type": "markdown",
   "metadata": {},
   "source": [
    "## Szükséges futtatások száma"
   ]
  },
  {
   "cell_type": "code",
   "execution_count": 21,
   "metadata": {
    "scrolled": true
   },
   "outputs": [
    {
     "name": "stdout",
     "output_type": "stream",
     "text": [
      "r: 2\n",
      "i: 1\n",
      "r: 1\n",
      "i: 2\n",
      "r: 4\n",
      "i: 3\n",
      "[3]\n",
      "r: 1\n",
      "i: 1\n",
      "r: 1\n",
      "i: 2\n",
      "r: 2\n",
      "i: 3\n",
      "r: 4\n",
      "i: 1\n",
      "r: 4\n",
      "i: 1\n",
      "r: 2\n",
      "i: 1\n",
      "r: 2\n",
      "i: 1\n",
      "r: 4\n",
      "i: 2\n",
      "[3, 3, 1, 1, 1, 2]\n",
      "r: 4\n",
      "i: 1\n",
      "r: 4\n",
      "i: 1\n",
      "r: 4\n",
      "i: 1\n",
      "r: 2\n",
      "i: 1\n",
      "r: 2\n",
      "i: 1\n",
      "[3, 3, 1, 1, 1, 2, 1, 1, 1, 1, 1]\n",
      "r: 4\n",
      "i: 1\n",
      "r: 1\n",
      "i: 1\n",
      "r: 2\n",
      "i: 2\n",
      "r: 4\n",
      "i: 1\n",
      "r: 4\n",
      "i: 1\n",
      "r: 7\n",
      "i: 1\n",
      "r: 4\n",
      "i: 2\n",
      "[3, 3, 1, 1, 1, 2, 1, 1, 1, 1, 1, 1, 2, 1, 1, 2]\n",
      "r: 2\n",
      "i: 1\n",
      "r: 1\n",
      "i: 2\n",
      "r: 2\n",
      "i: 3\n",
      "r: 7\n",
      "i: 4\n",
      "r: 4\n",
      "i: 5\n",
      "r: 2\n",
      "i: 1\n",
      "r: 1\n",
      "i: 2\n",
      "r: 6\n",
      "i: 3\n",
      "r: 5\n",
      "i: 4\n",
      "r: 4\n",
      "i: 5\n",
      "r: 4\n",
      "i: 1\n",
      "r: 2\n",
      "i: 1\n",
      "r: 1\n",
      "i: 1\n",
      "r: 2\n",
      "i: 2\n",
      "[3, 3, 1, 1, 1, 2, 1, 1, 1, 1, 1, 1, 2, 1, 1, 2, 5, 5, 1, 1, 2]\n",
      "r: 2\n",
      "i: 1\n",
      "r: 3\n",
      "i: 1\n",
      "r: 1\n",
      "i: 2\n",
      "r: 1\n",
      "i: 3\n",
      "r: 1\n",
      "i: 4\n",
      "r: 7\n",
      "i: 5\n",
      "r: 2\n",
      "i: 6\n",
      "r: 2\n",
      "i: 1\n",
      "r: 6\n",
      "i: 2\n",
      "r: 4\n",
      "i: 3\n",
      "r: 2\n",
      "i: 1\n",
      "r: 1\n",
      "i: 1\n",
      "r: 2\n",
      "i: 2\n",
      "r: 4\n",
      "i: 3\n",
      "[3, 3, 1, 1, 1, 2, 1, 1, 1, 1, 1, 1, 2, 1, 1, 2, 5, 5, 1, 1, 2, 1, 6, 3, 1, 3]\n",
      "r: 4\n",
      "i: 1\n",
      "r: 4\n",
      "i: 1\n",
      "r: 11\n",
      "i: 1\n",
      "r: 4\n",
      "i: 2\n",
      "r: 6\n",
      "i: 1\n",
      "r: 2\n",
      "i: 2\n",
      "r: 15\n",
      "i: 3\n",
      "r: 4\n",
      "i: 4\n",
      "r: 2\n",
      "i: 1\n",
      "[3, 3, 1, 1, 1, 2, 1, 1, 1, 1, 1, 1, 2, 1, 1, 2, 5, 5, 1, 1, 2, 1, 6, 3, 1, 3, 1, 1, 2, 4, 1]\n",
      "r: 2\n",
      "i: 1\n",
      "r: 4\n",
      "i: 1\n",
      "r: 2\n",
      "i: 1\n",
      "r: 4\n",
      "i: 2\n",
      "r: 4\n",
      "i: 1\n",
      "r: 2\n",
      "i: 1\n",
      "r: 4\n",
      "i: 2\n",
      "[3, 3, 1, 1, 1, 2, 1, 1, 1, 1, 1, 1, 2, 1, 1, 2, 5, 5, 1, 1, 2, 1, 6, 3, 1, 3, 1, 1, 2, 4, 1, 1, 1, 2, 1, 2]\n",
      "r: 4\n",
      "i: 1\n",
      "r: 2\n",
      "i: 1\n",
      "r: 7\n",
      "i: 1\n",
      "r: 7\n",
      "i: 2\n",
      "r: 1\n",
      "i: 3\n",
      "r: 15\n",
      "i: 4\n",
      "r: 1\n",
      "i: 5\n",
      "r: 4\n",
      "i: 6\n",
      "r: 4\n",
      "i: 1\n",
      "r: 2\n",
      "i: 1\n",
      "r: 4\n",
      "i: 2\n",
      "[3, 3, 1, 1, 1, 2, 1, 1, 1, 1, 1, 1, 2, 1, 1, 2, 5, 5, 1, 1, 2, 1, 6, 3, 1, 3, 1, 1, 2, 4, 1, 1, 1, 2, 1, 2, 1, 1, 6, 1, 2]\n",
      "r: 2\n",
      "i: 1\n",
      "r: 4\n",
      "i: 1\n",
      "r: 1\n",
      "i: 1\n",
      "r: 4\n",
      "i: 2\n",
      "r: 4\n",
      "i: 1\n",
      "r: 1\n",
      "i: 1\n",
      "r: 7\n",
      "i: 2\n",
      "r: 1\n",
      "i: 3\n",
      "r: 2\n",
      "i: 4\n",
      "[3, 3, 1, 1, 1, 2, 1, 1, 1, 1, 1, 1, 2, 1, 1, 2, 5, 5, 1, 1, 2, 1, 6, 3, 1, 3, 1, 1, 2, 4, 1, 1, 1, 2, 1, 2, 1, 1, 6, 1, 2, 1, 1, 2, 1, 4]\n",
      "r: 1\n",
      "i: 1\n",
      "r: 2\n",
      "i: 2\n",
      "r: 1\n",
      "i: 1\n",
      "r: 1\n",
      "i: 2\n",
      "r: 3\n",
      "i: 3\n",
      "r: 2\n",
      "i: 4\n",
      "r: 1\n",
      "i: 1\n",
      "r: 2\n",
      "i: 2\n",
      "r: 2\n",
      "i: 1\n",
      "[3, 3, 1, 1, 1, 2, 1, 1, 1, 1, 1, 1, 2, 1, 1, 2, 5, 5, 1, 1, 2, 1, 6, 3, 1, 3, 1, 1, 2, 4, 1, 1, 1, 2, 1, 2, 1, 1, 6, 1, 2, 1, 1, 2, 1, 4, 2, 4, 2, 1]\n"
     ]
    }
   ],
   "source": [
    "# Error probabilities\n",
    "prob_1 = 0.00001  # 1-qubit gate\n",
    "prob_2 = 0.0001   # 2-qubit gate\n",
    "\n",
    "# Depolarizing quantum errors\n",
    "error_1 = noise.depolarizing_error(prob_1, 1)\n",
    "error_2 = noise.depolarizing_error(prob_2, 2)\n",
    "\n",
    "# Add errors to noise model\n",
    "noise_model = noise.NoiseModel()\n",
    "noise_model.add_all_qubit_quantum_error(error_1, ['id', 'rz', 'sx', 'x'])\n",
    "noise_model.add_all_qubit_quantum_error(error_2, ['cx'])\n",
    "\n",
    "# Get basis gates from noise model\n",
    "basis_gates = noise_model.basis_gates\n",
    "\n",
    "l = []\n",
    "N = 15\n",
    "for j in range(50):\n",
    "    a = random.randint(2, N-1)\n",
    "    while gcd(a, N)[1] != 1:\n",
    "        a = random.randint(2, N-1)\n",
    "    r, i = order(a, N, basis_gates=basis_gates, noise_model=noise_model)\n",
    "    l.append(i)\n",
    "    if j%5==0:\n",
    "        print(l)\n",
    "print(l)"
   ]
  },
  {
   "cell_type": "code",
   "execution_count": 20,
   "metadata": {},
   "outputs": [],
   "source": [
    "l15_1 = [2, 6, 3, 2, 3, 5, 1, 10, 6, 4, 1, 1, 10, 1, 3, 2, 2, 12, 2, 1, \n",
    "         4, 9, 4, 1, 3, 1, 1, 3, 3, 1, 3, 4, 3, 1, 1, 4, 3, 9, 3, 6,\n",
    "         2, 1, 1, 1, 1, 1, 6, 2, 1, 1 ,2, 7, 4, 6, 4, 3, 4, 3, 4, 1,\n",
    "         5, 7, 1, 1, 2, 3, 3, 1, 1, 5, 2, 1, 1, 1, 1, 1, 1, 1, 4, 1, \n",
    "         1, 5, 1, 3, 4, 2, 3, 3, 1, 1, 2, 6, 1, 8, 1, 4, 4, 4, 4, 6, \n",
    "         6, 1, 2, 3, 1, 3, 1, 4, 1, 4, 1, 5, 6, 1, 1, 1, 1, 4, 1, 3, \n",
    "         1, 1, 1, 4, 1, 1, 4, 2, 4, 2, 2, 1, 1, 6, 2, 1, 3, 6, 1, 2, \n",
    "         1, 4, 5, 3, 1, 7, 2, 2, 2, 6, 1, 1, 1, 2, 1, 2, 3, 1, 4, 6,  \n",
    "         8, 3, 2, 4, 2, 1, 3, 2, 1, 3, 3, 5, 11, 2, 1, 3, 1, 11, 2, 1, \n",
    "         1, 4, 3, 1, 8, 2, 1, 1, 2, 2, 4, 1, 3, 3, 1, 1, 2, 2, 6, 1,\n",
    "         1, 2, 1, 1, 2, 3, 2, 3, 1, 3, 4, 2, 1, 1, 1, 2, 1, 2, 1, 3, \n",
    "         4, 1, 4, 2, 1, 1, 2, 4, 2, 2, 2, 1, 6, 1, 1, 2, 2, 1, 3, 1, \n",
    "         1, 1, 5, 3, 3, 1, 1, 1, 2, 1, 1, 1, 1, 1, 1, 2, 1, 1, 2, 5, \n",
    "         5, 1, 1, 2, 1, 6, 3, 1, 3, 1, 1, 2, 4, 1, 1, 1, 2, 1, 2, 1, \n",
    "         1, 6, 1, 2, 1, 1, 2, 1, 4, 2, 4, 2, 1]\n",
    "\n",
    "\n",
    "l21_1 = [4, 1, 10, 3, 5, 1, 3, 1, 4, 9, 3, 4, 9, 3, 1, 7, 2, 1, 1, 10, \n",
    "         4, 2, 15, 5, 1, 12, 3, 2, 3, 2, 1, 4, 1, 1, 1, 2]"
   ]
  },
  {
   "cell_type": "code",
   "execution_count": 21,
   "metadata": {},
   "outputs": [
    {
     "data": {
      "text/plain": [
       "293"
      ]
     },
     "execution_count": 21,
     "metadata": {},
     "output_type": "execute_result"
    }
   ],
   "source": [
    "\n",
    "l15=[4, 1, 1, 2, 5, 1, 2, 2, 1, 2, 1, 1, 4, 2, 1, 2, 1, 1, 1, 1, \n",
    "     1, 2, 6, 2, 3, 2, 4, 2, 1, 2, 1, 2, 1, 2, 1, 1, 1, 3, 4, 1, \n",
    "     1, 2, 4, 1, 1, 1, 1, 1, 1, 2, 3, 5, 3, 1, 1, 1, 1, 1, 1, 1, \n",
    "     1, 4, 6, 2, 6, 1, 1, 2, 2, 2, 2, 1, 1, 5, 1, 1, 1, 4, 1, 1, \n",
    "     3, 2, 4, 1, 3, 4, 2, 1, 1, 1, 1, 1, 1, 1, 3, 1, 1, 1, 3, 1, \n",
    "     1, 1, 1, 2, 1, 1, 2, 4, 1, 2, 1, 3, 1, 6, 1, 1, 1, 1, 1, 11, \n",
    "     2, 1, 1, 1, 3, 1, 1, 3, 3, 1, 1, 1, 3, 2, 3, 1, 1, 1, 2, 3, \n",
    "     1, 1, 3, 2, 1, 2, 4, 2, 1, 1]\n",
    "\n",
    "l21=[1, 5, 4, 1, 4, 1, 1, 9, 2, 1, 3, 1, 2, 1, 4, 4, 2, 3, 1, 2, \n",
    "     4, 1, 3, 2, 8, 1, 12, 9, 3, 1, 4, 4, 2, 1, 1, 1, 3, 3, 2, 1, \n",
    "     3, 2, 8, 2, 1, 1, 2, 1, 2, 1, 1, 1, 6, 1, 4, 1, 3, 2, 2, 1, \n",
    "     1, 2, 7, 4, 1, 1, 4, 1, 1, 4, 1, 1, 1, 1, 2, 2, 1, 1, 1, 2, \n",
    "     1, 1, 6, 2, 2, 2, 1, 1, 3, 1, 1, 2, 2, 1, 2, 2, 1, 2, 1, 1, \n",
    "     1, 1, 1, 1, 3, 3, 1, 1, 5, 2, 2, 1, 2, 3, 2, 1, 1, 1, 1, 2, \n",
    "     3, 1, 3, 8, 1, 4, 1, 2, 1, 1, 1, 2, 6, 3, 1, 1, 2, 2, 1, 1, \n",
    "     1, 1, 5, 1, 3, 1, 2, 3, 3, 8]\n",
    "len(l15_1)"
   ]
  },
  {
   "cell_type": "code",
   "execution_count": 22,
   "metadata": {},
   "outputs": [
    {
     "data": {
      "text/plain": [
       "(array([123.,   0.,  57.,   0.,  40.,   0.,  33.,   0.,  10.,   0.,  17.,\n",
       "          0.,   3.,   0.,   3.,   0.,   2.,   0.,   2.,   0.,   2.,   0.,\n",
       "          1.]),\n",
       " array([ 0.75,  1.25,  1.75,  2.25,  2.75,  3.25,  3.75,  4.25,  4.75,\n",
       "         5.25,  5.75,  6.25,  6.75,  7.25,  7.75,  8.25,  8.75,  9.25,\n",
       "         9.75, 10.25, 10.75, 11.25, 11.75, 12.25]),\n",
       " <BarContainer object of 23 artists>)"
      ]
     },
     "execution_count": 22,
     "metadata": {},
     "output_type": "execute_result"
    },
    {
     "data": {
      "image/png": "[encoded data removed]",
      "text/plain": [
       "<Figure size 432x288 with 1 Axes>"
      ]
     },
     "metadata": {
      "needs_background": "light"
     },
     "output_type": "display_data"
    }
   ],
   "source": [
    "# az order függvény próbálkozásainak száma a \"sikerig\" N=21 esetén zajos szimulátorral\n",
    "plt.hist(l15_1, bins=np.arange(0.75, max(l15_1)+0.75, 0.5)) "
   ]
  },
  {
   "cell_type": "code",
   "execution_count": 23,
   "metadata": {
    "scrolled": false
   },
   "outputs": [
    {
     "data": {
      "text/plain": [
       "(array([84.,  0., 31.,  0., 16.,  0., 11.,  0.,  3.,  0.,  4.,  0.,  0.,\n",
       "         0.,  0.,  0.,  0.,  0.,  0.,  0.,  1.]),\n",
       " array([ 0.75,  1.25,  1.75,  2.25,  2.75,  3.25,  3.75,  4.25,  4.75,\n",
       "         5.25,  5.75,  6.25,  6.75,  7.25,  7.75,  8.25,  8.75,  9.25,\n",
       "         9.75, 10.25, 10.75, 11.25]),\n",
       " <BarContainer object of 21 artists>)"
      ]
     },
     "execution_count": 23,
     "metadata": {},
     "output_type": "execute_result"
    },
    {
     "data": {
      "image/png": "[encoded data removed]",
      "text/plain": [
       "<Figure size 432x288 with 1 Axes>"
      ]
     },
     "metadata": {
      "needs_background": "light"
     },
     "output_type": "display_data"
    }
   ],
   "source": [
    "plt.hist(l15, bins=np.arange(0.75, max(l15)+0.75, 0.5)) # az order függvény próbálkozásainak száma a \"sikerig\" N=15 esetén"
   ]
  },
  {
   "cell_type": "code",
   "execution_count": 24,
   "metadata": {},
   "outputs": [],
   "source": [
    "backend = provider.get_backend('ibmq_armonk')\n",
    "noise_model_real = NoiseModel.from_backend(backend)"
   ]
  },
  {
   "cell_type": "code",
   "execution_count": 30,
   "metadata": {
    "scrolled": false
   },
   "outputs": [],
   "source": [
    "# Error probabilities\n",
    "prob_1 = 0.000005  # 1-qubit gate\n",
    "prob_2 = 0.00005   # 2-qubit gate\n",
    "\n",
    "# Depolarizing quantum errors\n",
    "error_1 = noise.depolarizing_error(prob_1, 1)\n",
    "error_2 = noise.depolarizing_error(prob_2, 2)\n",
    "\n",
    "# Add errors to noise model\n",
    "noise_model = noise.NoiseModel()\n",
    "noise_model.add_all_qubit_quantum_error(error_1, ['id', 'rz', 'sx', 'x'])\n",
    "noise_model.add_all_qubit_quantum_error(error_2, ['cx'])\n",
    "\n",
    "# Get basis gates from noise model\n",
    "basis_gates = noise_model.basis_gates\n"
   ]
  },
  {
   "cell_type": "code",
   "execution_count": 31,
   "metadata": {},
   "outputs": [
    {
     "data": {
      "text/plain": [
       "<qiskit.circuit.instructionset.InstructionSet at 0x7fc7e33b8130>"
      ]
     },
     "execution_count": 31,
     "metadata": {},
     "output_type": "execute_result"
    }
   ],
   "source": [
    "# Make a circuit\n",
    "N = 21\n",
    "a = 5\n",
    "\n",
    "n = N.bit_length()\n",
    "qc = QuantumCircuit(4*n+5, 4*n+5)\n",
    "qc.append(Shor_phase_est(a, N), range(4*n+5))\n",
    "qc.measure(range(2*n+3), range(2*n+3))"
   ]
  },
  {
   "cell_type": "code",
   "execution_count": null,
   "metadata": {},
   "outputs": [],
   "source": [
    "# Perform a noise simulation\n",
    "# = qk.compiler.transpile(circ, basis_gates=basis_gates)\n",
    "result = execute(qc, Aer.get_backend('qasm_simulator')\n",
    "                , basis_gates=basis_gates\n",
    "                , noise_model=noise_model\n",
    "                , shots=20\n",
    "                ).result()\n",
    "counts = result.get_counts(0)"
   ]
  },
  {
   "cell_type": "code",
   "execution_count": null,
   "metadata": {},
   "outputs": [],
   "source": [
    "dict = {}\n",
    "for i in list(counts):\n",
    "    num = 0\n",
    "    for j in range(2*n+3):\n",
    "        num += int(i[-j-1])*2**j\n",
    "    frac = convergents(cont_frac(num, 2**(2*n+3)))\n",
    "    frac = np.array(frac)\n",
    "    r = max(frac[1][frac[1]<N])\n",
    "    if r in dict.keys():\n",
    "        dict[r] += counts[i]\n",
    "    else: dict[r]=counts[i]\n",
    "plot_histogram(counts)\n",
    "print(dict.keys())"
   ]
  },
  {
   "cell_type": "markdown",
   "metadata": {},
   "source": [
    "## Áramkör topológiája"
   ]
  },
  {
   "cell_type": "code",
   "execution_count": 24,
   "metadata": {
    "scrolled": true
   },
   "outputs": [
    {
     "name": "stdout",
     "output_type": "stream",
     "text": [
      "55.0 44.0\n",
      "0.8717948717948718\n",
      "0.8897058823529411\n",
      "0.9\n",
      "0.9066666666666666\n",
      "0.9113300492610837\n",
      "0.9147727272727273\n",
      "0.9174174174174174\n",
      "0.9195121951219513\n",
      "0.9212121212121213\n",
      "0.9226190476190477\n",
      "0.9238026124818578\n",
      "0.924812030075188\n",
      "0.9256830601092896\n",
      "0.9264423076923077\n",
      "0.9271099744245525\n",
      "0.9277016742770168\n",
      "0.9282296650717703\n",
      "0.9287037037037037\n",
      "0.9291316526610645\n",
      "0.9295199182839632\n",
      "0.9298737727910238\n",
      "0.9301975945017182\n",
      "0.9304950495049505\n",
      "0.9307692307692308\n",
      "0.9310227658851512\n",
      "0.9312579013906448\n",
      "0.9314765694076039\n",
      "0.9316804407713498\n",
      "0.9318709677419355\n",
      "0.9320494186046512\n",
      "0.9322169059011164\n",
      "0.9323744096178618\n",
      "0.9325227963525836\n",
      "0.9326628352490421\n",
      "0.9327952113187012\n",
      "0.932920536635707\n",
      "0.9330393597909521\n",
      "0.9331521739130435\n",
      "0.9332594235033259\n",
      "0.9333615102845872\n",
      "0.933458798225568\n",
      "0.9335516178736518\n",
      "0.9336402701043585\n",
      "0.9337250293772033\n",
      "0.933806146572104\n",
      "0.9338838514680483\n",
      "0.9339583549155703\n",
      "0.9340298507462687\n",
      "0.9340985174557628\n",
      "0.9341645196908355\n",
      "0.9342280095668349\n",
      "0.9342891278375149\n",
      "0.9343480049362403\n",
      "0.934404761904762\n",
      "0.9344595112234735\n",
      "0.9345123575551281\n",
      "0.9345633984123579\n",
      "0.934612724757953\n",
      "0.9346604215456674\n",
      "0.9347065682083171\n",
      "0.9347512390990652\n",
      "0.9347945038910506\n",
      "0.9348364279398762\n",
      "0.9348770726129216\n",
      "0.9349164955889696\n",
      "0.9349547511312217\n",
      "0.9349918903364203\n",
      "0.9350279613624809\n",
      "0.935063009636768\n",
      "0.935097078046905\n",
      "0.9351302071158072\n",
      "0.9351624351624351\n",
      "0.9351937984496124\n",
      "0.9352243313201035\n",
      "0.9352540663220275\n",
      "0.9352830343245678\n",
      "0.9353112646248453\n",
      "0.935338785046729\n",
      "0.9353656220322887\n",
      "0.935391800726518\n",
      "0.9354173450558992\n",
      "0.9354422778013283\n",
      "0.9354666206658616\n",
      "0.9354903943377149\n",
      "0.9355136185488917\n",
      "0.9355363121297966\n",
      "0.9355584930601454\n",
      "0.9355801785164666\n",
      "0.9356013849164534\n",
      "0.93562212796041\n",
      "0.9356424226700106\n",
      "0.9356622834245725\n",
      "0.9356817239950269\n",
      "0.9357007575757575\n",
      "0.9357193968144595\n",
      "0.935737653840162\n",
      "0.9357555402895453\n",
      "0.9357730673316709\n"
     ]
    }
   ],
   "source": [
    "n = 4\n",
    "K =1\n",
    "nodes = K + 2*n + 2\n",
    "lines = K*(K-1)/2 + K*(2*n+1) + 3*n*(n+1)/2 + n+1\n",
    "full = nodes*(nodes-1)/2\n",
    "print(full, lines)\n",
    "for n in range(2, 100):\n",
    "    K = 2*n+3\n",
    "    nodes = K + 2*n + 2\n",
    "    lines = K*(K-1)/2 + K*(2*n+1) + 3*n*(n+1)/2 + n+1\n",
    "    full = nodes*(nodes-1)/2\n",
    "    print(lines/full)"
   ]
  },
  {
   "cell_type": "code",
   "execution_count": null,
   "metadata": {},
   "outputs": [],
   "source": []
  }
 ],
 "metadata": {
  "interpreter": {
   "hash": "1ec5abbd448eeb6d0243c44bc46c54b3bdfd616211a03677fc17b4719b2d56e3"
  },
  "kernelspec": {
   "display_name": "Python 3",
   "language": "python",
   "name": "python3"
  },
  "language_info": {
   "codemirror_mode": {
    "name": "ipython",
    "version": 3
   },
   "file_extension": ".py",
   "mimetype": "text/x-python",
   "name": "python",
   "nbconvert_exporter": "python",
   "pygments_lexer": "ipython3",
   "version": "3.8.5"
  }
 },
 "nbformat": 4,
 "nbformat_minor": 5
}
