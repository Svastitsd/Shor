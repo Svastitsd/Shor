{
 "cells": [
  {
   "cell_type": "code",
   "execution_count": 1,
   "metadata": {},
   "outputs": [],
   "source": [
    "import numpy as np\n",
    "import random\n",
    "import matplotlib.pyplot as plt\n",
    "import matplotlib\n",
    "import scipy.optimize\n"
   ]
  },
  {
   "cell_type": "markdown",
   "metadata": {},
   "source": [
    "## Segédfüggvények"
   ]
  },
  {
   "cell_type": "code",
   "execution_count": 2,
   "metadata": {},
   "outputs": [],
   "source": [
    "def gcd(m, n): # euclid's algorithm\n",
    "    a = max(m,n)\n",
    "    b = min(m,n)\n",
    "    if a%b == 0:\n",
    "        return a, b\n",
    "    c = a % b\n",
    "    return gcd(b, c) # c a legnagyobb közös osztó\n",
    "\n",
    "# determines if n is probably-prime or composite using miller rabin test. Tests k times\n",
    "def is_prime(n, k=20): # miller-rabin test\n",
    "    if n == 2:\n",
    "        return True\n",
    "    for _ in range(k):\n",
    "        witness = 1\n",
    "        a = random.randint(2, n-1)\n",
    "        if gcd(a, n)[1] != 1:\n",
    "            return False\n",
    "        d = n-1\n",
    "        r = 0\n",
    "        while d % 2 == 0:\n",
    "            d = d//2\n",
    "            r += 1\n",
    "        s = int_pow_mod(a, d, n)\n",
    "        if s == 1:\n",
    "            witness = 0\n",
    "        for i in range(r):\n",
    "            if s == n-1:\n",
    "                witness = 0\n",
    "            s = s**2 % n\n",
    "        if witness == 1:\n",
    "            return False\n",
    "    return True"
   ]
  },
  {
   "cell_type": "code",
   "execution_count": 3,
   "metadata": {},
   "outputs": [],
   "source": [
    "def int_nth_root(A, n): # calculate floor of nth root of A\n",
    "    if A<0:\n",
    "        if n%2 == 0:\n",
    "            raise ValueError\n",
    "        return -int_nth_root(-A,n)\n",
    "    if A==0:\n",
    "        return 0\n",
    "    n1 = n-1\n",
    "    if A.bit_length() < 1024: # float(n) safe from overflow\n",
    "        xk = int( round( pow(A,1.0/n) ) )\n",
    "        xk = ( n1*xk + A//pow(xk,n1) )//n # Ensure xk >= floor(nthroot(A)).\n",
    "    else:\n",
    "        xk = 1 << -(-A.bit_length()//n) # 1 << sum(divmod(A.bit_length(),n))\n",
    "                                        # power of 2 closer but greater than the nth root of A\n",
    "    while True:\n",
    "        d = A // pow(xk,n1)\n",
    "        if xk <= d:\n",
    "            return xk\n",
    "        xk = (n1*xk + d)//n"
   ]
  },
  {
   "cell_type": "code",
   "execution_count": 4,
   "metadata": {},
   "outputs": [],
   "source": [
    "def two_pow(A, k): # computes A**(2**k), A: L bit int\n",
    "    result = np.copy(A)\n",
    "    for i in range(k): # k multiplying operations\n",
    "        result = result**2 \n",
    "    return result  # if k < L: max O(L^3) operations\n",
    "\n",
    "def int_pow(A, n): # computes A**n in polynomal time, A: L bit int\n",
    "    n_bin = list(bin(n))\n",
    "    index = n_bin.index('b')\n",
    "    n_bin = n_bin[index+1:]\n",
    "    l = len(n_bin) # l < log(L)\n",
    "    result = 1\n",
    "    for i in range(l):\n",
    "        bit = int(n_bin[l-i-1])\n",
    "        if bit == 1:\n",
    "            result = result*two_pow(A, i)\n",
    "    return result # if n < A: max O(L^4) operations"
   ]
  },
  {
   "cell_type": "code",
   "execution_count": 5,
   "metadata": {},
   "outputs": [],
   "source": [
    "def two_pow_mod(A, k, N): #computes A**(2**k) mod N, A: L bit int\n",
    "    result = np.copy(A)\n",
    "    for i in range(k): # k multiplying operations\n",
    "        result = result**2 % N\n",
    "    return result  # if  k < L: max O(L^3)\n",
    "\n",
    "def int_pow_mod(A, n, N): #computes A**n mod N in polynomal time, A: L bit integer\n",
    "    n_bin = list(bin(n))\n",
    "    index = n_bin.index('b')\n",
    "    n_bin = n_bin[index+1:]\n",
    "    l = len(n_bin) # l < log(L)\n",
    "    result = 1\n",
    "    for i in range(l):\n",
    "        bit = int(n_bin[l-i-1])\n",
    "        if bit == 1:\n",
    "            result = result*two_pow_mod(A, i, N) % N\n",
    "    return result # if n < A:max O(L^4) operations"
   ]
  },
  {
   "cell_type": "code",
   "execution_count": 6,
   "metadata": {},
   "outputs": [],
   "source": [
    "def find_int_pow(N):\n",
    "    n = N.bit_length()\n",
    "    for i in range(2, n):\n",
    "        a = int_nth_root(N, i)\n",
    "        if int_pow(a, i) == N:\n",
    "            return a, i\n",
    "    return N, 1\n",
    "\n",
    "def order(a, N): \n",
    "    if gcd(a, N)[1] != 1:\n",
    "        raise ValueError(\"a and N have to be coprime\")\n",
    "    s = 1\n",
    "    i = 0\n",
    "    while i == 0 or s != 1:\n",
    "        s = (a*s) % N\n",
    "        i += 1\n",
    "    return i"
   ]
  },
  {
   "cell_type": "markdown",
   "metadata": {},
   "source": [
    "## Számolás és ábrakészítés"
   ]
  },
  {
   "cell_type": "code",
   "execution_count": 7,
   "metadata": {},
   "outputs": [],
   "source": [
    "def fidelity(X, Y):\n",
    "    if len(X) != len(Y):\n",
    "        raise ValueError(\"X and Y have to be of equal length\")\n",
    "    return sum(np.sqrt(X)*np.sqrt(Y))**2\n",
    "    \n",
    "\n",
    "def geo(p, n):\n",
    "    G = []\n",
    "    for i in range(n+1):\n",
    "        G.append(p*(1-p)**(i))\n",
    "    return np.array(G)\n",
    "        \n",
    "def geom(k, p):\n",
    "    return p*(1-p)**(k-1)\n",
    "\n",
    "def lin(x, a, b):\n",
    "    return a*x+b\n",
    "\n",
    "def log(x, a):\n",
    "    return(a*np.log2(x))"
   ]
  },
  {
   "cell_type": "code",
   "execution_count": 8,
   "metadata": {},
   "outputs": [],
   "source": [
    "#természetes számokat felvevő X és Y val változók súlyfüggvényét adjuk át 'numpy array'-ként\n",
    "#nem tudjuk az egész súlyfüggvényt átadni, hiszen végtelen sok értéket vehetnek fel a val változók\n",
    "def distr_add(X, Y): # k jelöli a legnagyobb felvett értéket\n",
    "    if len(X) != len(Y):\n",
    "        raise ValueError(\"X and Y have to be of equal length\")\n",
    "    k = len(X)-1\n",
    "    S = []\n",
    "    for i in range(k+1):\n",
    "        s = 0\n",
    "        for j in range(i+1):\n",
    "            s += X[j]*Y[i-j]\n",
    "        S.append(s)\n",
    "    return np.array(S)\n",
    "\n",
    "def distr_mult(X, n): # n darab azonos eloszlású természetes értékű val változót ad össze\n",
    "    k = len(X)-1\n",
    "    if n == 0:\n",
    "        S = np.zeros(k+1)\n",
    "        S[0] = 1\n",
    "        return S\n",
    "    S = X\n",
    "    for j in range(n-1):\n",
    "        S = distr_add(X, S)\n",
    "    return S"
   ]
  },
  {
   "cell_type": "code",
   "execution_count": 25,
   "metadata": {},
   "outputs": [
    {
     "name": "stdout",
     "output_type": "stream",
     "text": [
      "[0.30057593]\n"
     ]
    },
    {
     "data": {
      "image/png": "[encoded data removed]",
      "text/plain": [
       "<Figure size 720x432 with 1 Axes>"
      ]
     },
     "metadata": {
      "needs_background": "light"
     },
     "output_type": "display_data"
    }
   ],
   "source": [
    "num = []\n",
    "E = []\n",
    "Expect = {}\n",
    "for N in range(4, 512):\n",
    "    if is_prime(N)==False and find_int_pow(N)[1] == 1 and N%2 == 1:\n",
    "        num.append(N)\n",
    "        \n",
    "        i = 0 # itt számláljuk, hogy hány sikeres 'a' van \n",
    "        frac = []\n",
    "        for a in range(2, N-1):\n",
    "            if gcd(a, N)[1] == 1:\n",
    "                r = order(a, N)\n",
    "                j = 0\n",
    "                for s in range(1, r):\n",
    "                    if gcd(s, r)[1] == 1:\n",
    "                        j += 1\n",
    "                frac.append(r/j)\n",
    "                if r%2 == 0 and int_pow_mod(a, r//2, N) != N-1:\n",
    "                    i += 1\n",
    "            else:\n",
    "                i += 1\n",
    "                \n",
    "        q = i/(N-3)\n",
    "        E.append(1/(q*(N-3))*sum(frac))\n",
    "        Expect[N] = 1/(q*(N-3))*sum(frac)\n",
    "num = np.array(num)\n",
    "fit, cov = scipy.optimize.curve_fit(log, num, E, p0=[1])\n",
    "fig, ax = plt.subplots(figsize=(10, 6))\n",
    "ax.plot(num, E, '.')\n",
    "ax.set_xlabel('N', fontsize=15)\n",
    "ax.set_ylabel('E(S)', fontsize=15)\n",
    "ax.grid()\n",
    "#ax.plot(num, log(num, fit[0]))\n",
    "print(fit)\n",
    "#plt.savefig('E(S).png')"
   ]
  },
  {
   "cell_type": "code",
   "execution_count": 10,
   "metadata": {},
   "outputs": [],
   "source": [
    "N = 21\n",
    "p1 = []\n",
    "p2 = []\n",
    "j = 0 # nem sikeres 'a'-k száma\n",
    "for a in range(2, N-1):\n",
    "    if gcd(a, N)[1] == 1:\n",
    "        r = order(a, N)\n",
    "        i = 0\n",
    "        for s in range(1, r):\n",
    "            if gcd(s, r)[1] == 1:\n",
    "                i += 1\n",
    "        if r%2 == 1 or int_pow_mod(a, r//2, N) == N-1:\n",
    "            p1.append(i/r)\n",
    "            j += 1\n",
    "        else:\n",
    "            p2.append(i/r)\n",
    "l = len(p1+p2)\n",
    "q = (N-3-j)/(N-3)\n",
    "p1 = np.array(p1)\n",
    "p2 = np.array(p2)\n",
    "if q != 1:\n",
    "    P1 = [0]\n",
    "else:\n",
    "    P1 = [1]\n",
    "P2 = [(N-3-l)/q/(N-3)]\n",
    "j = 50\n",
    "for k in range(1, j):\n",
    "    if q != 1:\n",
    "        P1.append(1/(1-q)/(N-3)*sum((1-p1)**(k-1)*p1))\n",
    "    else:\n",
    "        P1.append(0)\n",
    "    P2.append(1/q/(N-3)*sum((1-p2)**(k-1)*p2))\n",
    "    \n",
    "fit, cov = scipy.optimize.curve_fit(geom, np.array(range(1, len(P2))), P2[1:], p0=[1])"
   ]
  },
  {
   "cell_type": "code",
   "execution_count": 11,
   "metadata": {},
   "outputs": [],
   "source": [
    "j = 40\n",
    "S = []\n",
    "for s in range(j): # s: S által felvett érték\n",
    "    p = 0\n",
    "    for k in range(1, s+2): # k: K által felvett érték\n",
    "        p += q*(1-q)**(k-1)*distr_add(distr_mult(P1, k-1), P2)[s]\n",
    "    S.append(p)\n"
   ]
  },
  {
   "cell_type": "code",
   "execution_count": 22,
   "metadata": {},
   "outputs": [
    {
     "name": "stdout",
     "output_type": "stream",
     "text": [
      "0.9998912840153071\n",
      "0.705273355456159\n"
     ]
    },
    {
     "data": {
      "image/png": "[encoded data removed]",
      "text/plain": [
       "<Figure size 720x432 with 1 Axes>"
      ]
     },
     "metadata": {
      "needs_background": "light"
     },
     "output_type": "display_data"
    }
   ],
   "source": [
    "fig, ax = plt.subplots(figsize=(10, 6))\n",
    "ax.plot(range(len(S)), S, '.')\n",
    "ax.set_yscale('log')\n",
    "ax.set_xlabel('$s$', fontsize=20)\n",
    "ax.set_ylabel('$P(S=s$)', fontsize=20)\n",
    "plt.xticks(fontsize=15)\n",
    "plt.yticks(fontsize=15)\n",
    "#ax.set_title('Szükséges futtatások számának (S) eloszlása N = %i esetén' % N, fontsize= 15)\n",
    "ax.xaxis.set_minor_locator(matplotlib.ticker.MultipleLocator(1))\n",
    "ax.tick_params(labelsize=15, which='both', direction='in',right=True, left=True, bottom=True, top=True)\n",
    "ax.grid()\n",
    "print(sum(S))\n",
    "print(fidelity(S, geo(0.5, len(S)-1)))\n",
    "plt.savefig('eloszl21')"
   ]
  },
  {
   "cell_type": "code",
   "execution_count": 26,
   "metadata": {
    "scrolled": true
   },
   "outputs": [],
   "source": [
    "fid = []\n",
    "N_fid = []\n",
    "for N in range(2, 512):\n",
    "    p1 = [] # adott sikertelen 'a'-khoz tartozó valószínűségek\n",
    "    p2 = [] # sikeres 'a'-khoz tartozó valószínűségek\n",
    "    if find_int_pow(N)[1] == 1 and N%2 != 0 and is_prime(N)==False:\n",
    "        p1 = []\n",
    "        p2 = []\n",
    "        j = 0 # nem sikeres 'a'-k száma\n",
    "        for a in range(2, N-1):\n",
    "            if gcd(a, N)[1] == 1:\n",
    "                r = order(a, N)\n",
    "                i = 0 # \n",
    "                for s in range(1, r):\n",
    "                    if gcd(s, r)[1] == 1:\n",
    "                        i += 1\n",
    "                if r%2 == 1 or int_pow_mod(a, r//2, N) == N-1:\n",
    "                    p1.append(i/r)\n",
    "                    j += 1\n",
    "                else:\n",
    "                    p2.append(i/r)\n",
    "        l = len(p1+p2)\n",
    "        q = (N-3-j)/(N-3)\n",
    "        p1 = np.array(p1)\n",
    "        p2 = np.array(p2)\n",
    "        P1 = [0] # \"X\" súlyfüggvénye\n",
    "        P2 = [(N-3-l)/q/(N-3)] # \"Y\" súlyfüggvénye\n",
    "        j = 40\n",
    "        for k in range(1, j):\n",
    "            if q != 1:\n",
    "                P1.append(1/(1-q)/(N-3)*sum((1-p1)**(k-1)*p1))\n",
    "            else:\n",
    "                P1.append(0)\n",
    "            P2.append(1/q/(N-3)*sum((1-p2)**(k-1)*p2))\n",
    "        \n",
    "        S = []\n",
    "        for s in range(j): # s: S által felvett érték\n",
    "            p = 0\n",
    "            for k in range(1, s+2): # k: K által felvett érték\n",
    "                p += q*(1-q)**(k-1)*distr_add(distr_mult(P1, k-1), P2)[s]\n",
    "            S.append(p)\n",
    "        #fig, ax = plt.subplots(figsize=(8,5))\n",
    "        #ax.plot(range(len(S)), S, '.')\n",
    "        #ax.xaxis.set_minor_locator(matplotlib.ticker.MultipleLocator(1))\n",
    "        #ax.xaxis.set_major_locator(matplotlib.ticker.MultipleLocator(5))\n",
    "        #ax.yaxis.set_major_locator(matplotlib.ticker.MultipleLocator(0.2))\n",
    "        #ax.yaxis.set_minor_locator(matplotlib.ticker.MultipleLocator(0.1))\n",
    "        #ax.set_title('N = %i' % N, fontsize=20)\n",
    "        #ax.set_xlabel('próbálkozások száma', fontsize=15)\n",
    "        #ax.set_ylabel('valószínűség',fontsize=15)\n",
    "        #ax.set_yscale('log')\n",
    "        N_fid.append(N)\n",
    "        fid.append(fidelity(geo(1/(Expect[N]+1), len(S)-1), S))\n",
    "        #print('N = %i: fidelity=' %N ,fidelity(geo(1/(Expect[N]+1), len(S)-1), S))"
   ]
  },
  {
   "cell_type": "code",
   "execution_count": 28,
   "metadata": {},
   "outputs": [
    {
     "data": {
      "image/png": "[encoded data removed]",
      "text/plain": [
       "<Figure size 720x432 with 1 Axes>"
      ]
     },
     "metadata": {
      "needs_background": "light"
     },
     "output_type": "display_data"
    }
   ],
   "source": [
    "num = np.array(num, dtype = int)\n",
    "fig, ax = plt.subplots(figsize=(10, 6))\n",
    "ax.plot(N_fid, fid, '.')\n",
    "ax.set_xlabel('$N$', fontsize=20)\n",
    "ax.set_ylabel('hitelesség', fontsize=20)\n",
    "#ax.set_ylim(0.95, 1)\n",
    "plt.xticks(fontsize=15)\n",
    "plt.yticks(fontsize=15)\n",
    "#ax.set_title('Futtatások számának várható értéke')\n",
    "ax.grid()\n",
    "plt.savefig('fidelity')\n"
   ]
  },
  {
   "cell_type": "code",
   "execution_count": null,
   "metadata": {},
   "outputs": [],
   "source": []
  }
 ],
 "metadata": {
  "interpreter": {
   "hash": "1ec5abbd448eeb6d0243c44bc46c54b3bdfd616211a03677fc17b4719b2d56e3"
  },
  "kernelspec": {
   "display_name": "Python 3.8.5 64-bit ('base': conda)",
   "name": "python3"
  },
  "language_info": {
   "codemirror_mode": {
    "name": "ipython",
    "version": 3
   },
   "file_extension": ".py",
   "mimetype": "text/x-python",
   "name": "python",
   "nbconvert_exporter": "python",
   "pygments_lexer": "ipython3",
   "version": "3.8.5"
  }
 },
 "nbformat": 4,
 "nbformat_minor": 4
}
