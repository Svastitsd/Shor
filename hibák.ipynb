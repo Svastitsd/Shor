{
 "cells": [
  {
   "cell_type": "code",
   "execution_count": 1,
   "metadata": {},
   "outputs": [],
   "source": [
    "import numpy as np\n",
    "import matplotlib.pyplot as plt\n",
    "import random\n",
    "import scipy.optimize\n",
    "import json"
   ]
  },
  {
   "cell_type": "code",
   "execution_count": 2,
   "metadata": {},
   "outputs": [],
   "source": [
    "def gcd(m, n): # euclid's algorithm\n",
    "    a = max(m,n)\n",
    "    b = min(m,n)\n",
    "    if a%b == 0:\n",
    "        return a, b\n",
    "    c = a % b\n",
    "    return gcd(b, c) # c a legnagyobb közös osztó\n",
    "\n",
    "# determines if n is probably-prime or composite using miller rabin test. Tests k times\n",
    "def is_prime(n, k=20): # miller-rabin test\n",
    "    if n == 2:\n",
    "        return True\n",
    "    for _ in range(k):\n",
    "        witness = 1\n",
    "        a = random.randint(2, n-1)\n",
    "        if gcd(a, n)[1] != 1:\n",
    "            return False\n",
    "        d = n-1\n",
    "        r = 0\n",
    "        while d % 2 == 0:\n",
    "            d = d//2\n",
    "            r += 1\n",
    "        s = int_pow_mod(a, d, n)\n",
    "        if s == 1:\n",
    "            witness = 0\n",
    "        for i in range(r):\n",
    "            if s == n-1:\n",
    "                witness = 0\n",
    "            s = s**2 % n\n",
    "        if witness == 1:\n",
    "            return False\n",
    "    return True"
   ]
  },
  {
   "cell_type": "code",
   "execution_count": 3,
   "metadata": {},
   "outputs": [],
   "source": [
    "def int_nth_root(A, n): # calculate floor of nth root of A\n",
    "    if A<0:\n",
    "        if n%2 == 0:\n",
    "            raise ValueError\n",
    "        return -int_nth_root(-A,n)\n",
    "    if A==0:\n",
    "        return 0\n",
    "    n1 = n-1\n",
    "    if A.bit_length() < 1024: # float(n) safe from overflow\n",
    "        xk = int( round( pow(A,1.0/n) ) )\n",
    "        xk = ( n1*xk + A//pow(xk,n1) )//n # Ensure xk >= floor(nthroot(A)).\n",
    "    else:\n",
    "        xk = 1 << -(-A.bit_length()//n) # 1 << sum(divmod(A.bit_length(),n))\n",
    "                                        # power of 2 closer but greater than the nth root of A\n",
    "    while True:\n",
    "        d = A // pow(xk,n1)\n",
    "        if xk <= d:\n",
    "            return xk\n",
    "        xk = (n1*xk + d)//n"
   ]
  },
  {
   "cell_type": "code",
   "execution_count": 4,
   "metadata": {},
   "outputs": [],
   "source": [
    "def two_pow(A, k): # computes A**(2**k), A: L bit int\n",
    "    result = np.copy(A)\n",
    "    for i in range(k): # k multiplying operations\n",
    "        result = result**2 \n",
    "    return result  # if k < L: max O(L^3) operations\n",
    "\n",
    "def int_pow(A, n): # computes A**n in polynomal time, A: L bit int\n",
    "    n_bin = list(bin(n))\n",
    "    index = n_bin.index('b')\n",
    "    n_bin = n_bin[index+1:]\n",
    "    l = len(n_bin) # l < log(L)\n",
    "    result = 1\n",
    "    for i in range(l):\n",
    "        bit = int(n_bin[l-i-1])\n",
    "        if bit == 1:\n",
    "            result = result*two_pow(A, i)\n",
    "    return result # if n < A: max O(L^4) operations"
   ]
  },
  {
   "cell_type": "code",
   "execution_count": 5,
   "metadata": {},
   "outputs": [],
   "source": [
    "def two_pow_mod(A, k, N): #computes A**(2**k) mod N, A: L bit int\n",
    "    result = np.copy(A)\n",
    "    for i in range(k): # k multiplying operations\n",
    "        result = result**2 % N\n",
    "    return result  # if  k < L: max O(L^3)\n",
    "\n",
    "def int_pow_mod(A, n, N): #computes A**n mod N in polynomal time, A: L bit integer\n",
    "    n_bin = list(bin(n))\n",
    "    index = n_bin.index('b')\n",
    "    n_bin = n_bin[index+1:]\n",
    "    l = len(n_bin) # l < log(L)\n",
    "    result = 1\n",
    "    for i in range(l):\n",
    "        bit = int(n_bin[l-i-1])\n",
    "        if bit == 1:\n",
    "            result = result*two_pow_mod(A, i, N) % N\n",
    "    return result # if n < A:max O(L^4) operations"
   ]
  },
  {
   "cell_type": "code",
   "execution_count": 6,
   "metadata": {},
   "outputs": [],
   "source": [
    "def find_int_pow(N):\n",
    "    n = N.bit_length()\n",
    "    for i in range(2, n):\n",
    "        a = int_nth_root(N, i)\n",
    "        if int_pow(a, i) == N:\n",
    "            return a, i\n",
    "    return N, 1\n",
    "\n",
    "def order(a, N): \n",
    "    if gcd(a, N)[1] != 1:\n",
    "        raise ValueError(\"a and N have to be coprime\")\n",
    "    s = 1\n",
    "    i = 0\n",
    "    while i == 0 or s != 1:\n",
    "        s = (a*s) % N\n",
    "        i += 1\n",
    "    return i"
   ]
  },
  {
   "cell_type": "code",
   "execution_count": null,
   "metadata": {},
   "outputs": [],
   "source": []
  }
 ],
 "metadata": {
  "kernelspec": {
   "name": "python3",
   "display_name": "Python 3.8.5 64-bit ('base': conda)"
  },
  "language_info": {
   "codemirror_mode": {
    "name": "ipython",
    "version": 3
   },
   "file_extension": ".py",
   "mimetype": "text/x-python",
   "name": "python",
   "nbconvert_exporter": "python",
   "pygments_lexer": "ipython3",
   "version": "3.8.5"
  },
  "interpreter": {
   "hash": "1ec5abbd448eeb6d0243c44bc46c54b3bdfd616211a03677fc17b4719b2d56e3"
  }
 },
 "nbformat": 4,
 "nbformat_minor": 4
}